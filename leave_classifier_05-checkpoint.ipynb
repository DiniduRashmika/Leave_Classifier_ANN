{
 "cells": [
  {
   "cell_type": "markdown",
   "id": "4e3e8230",
   "metadata": {},
   "source": [
    "# Leave Classifier"
   ]
  },
  {
   "cell_type": "markdown",
   "id": "97bbd697",
   "metadata": {},
   "source": [
    "team cognicrew"
   ]
  },
  {
   "cell_type": "code",
   "execution_count": 1,
   "id": "5c0d4a2e",
   "metadata": {},
   "outputs": [],
   "source": [
    "import pandas as pd\n",
    "import numpy as np\n",
    "import seaborn as sns\n",
    "from tensorflow import keras"
   ]
  },
  {
   "cell_type": "code",
   "execution_count": 2,
   "id": "32beea68",
   "metadata": {},
   "outputs": [
    {
     "data": {
      "text/html": [
       "<div>\n",
       "<style scoped>\n",
       "    .dataframe tbody tr th:only-of-type {\n",
       "        vertical-align: middle;\n",
       "    }\n",
       "\n",
       "    .dataframe tbody tr th {\n",
       "        vertical-align: top;\n",
       "    }\n",
       "\n",
       "    .dataframe thead th {\n",
       "        text-align: right;\n",
       "    }\n",
       "</style>\n",
       "<table border=\"1\" class=\"dataframe\">\n",
       "  <thead>\n",
       "    <tr style=\"text-align: right;\">\n",
       "      <th></th>\n",
       "      <th>Ratio_L_to_W</th>\n",
       "      <th>Angle_Front</th>\n",
       "      <th>Angle_Back</th>\n",
       "      <th>Label</th>\n",
       "    </tr>\n",
       "  </thead>\n",
       "  <tbody>\n",
       "    <tr>\n",
       "      <th>0</th>\n",
       "      <td>2.50</td>\n",
       "      <td>70</td>\n",
       "      <td>85</td>\n",
       "      <td>Welienna</td>\n",
       "    </tr>\n",
       "    <tr>\n",
       "      <th>1</th>\n",
       "      <td>2.55</td>\n",
       "      <td>80</td>\n",
       "      <td>75</td>\n",
       "      <td>Welienna</td>\n",
       "    </tr>\n",
       "    <tr>\n",
       "      <th>2</th>\n",
       "      <td>2.56</td>\n",
       "      <td>140</td>\n",
       "      <td>90</td>\n",
       "      <td>Welienna</td>\n",
       "    </tr>\n",
       "    <tr>\n",
       "      <th>3</th>\n",
       "      <td>2.56</td>\n",
       "      <td>100</td>\n",
       "      <td>85</td>\n",
       "      <td>Welienna</td>\n",
       "    </tr>\n",
       "    <tr>\n",
       "      <th>4</th>\n",
       "      <td>2.56</td>\n",
       "      <td>60</td>\n",
       "      <td>85</td>\n",
       "      <td>Welienna</td>\n",
       "    </tr>\n",
       "  </tbody>\n",
       "</table>\n",
       "</div>"
      ],
      "text/plain": [
       "   Ratio_L_to_W  Angle_Front  Angle_Back     Label\n",
       "0          2.50           70          85  Welienna\n",
       "1          2.55           80          75  Welienna\n",
       "2          2.56          140          90  Welienna\n",
       "3          2.56          100          85  Welienna\n",
       "4          2.56           60          85  Welienna"
      ]
     },
     "execution_count": 2,
     "metadata": {},
     "output_type": "execute_result"
    }
   ],
   "source": [
    "df = pd.read_csv('leave_traning_dataset_01.csv')\n",
    "df.head()"
   ]
  },
  {
   "cell_type": "code",
   "execution_count": 3,
   "id": "8a051dfb",
   "metadata": {},
   "outputs": [
    {
     "data": {
      "text/plain": [
       "Label\n",
       "Welan       44\n",
       "Welienna    43\n",
       "Kaluwara    43\n",
       "Name: count, dtype: int64"
      ]
     },
     "execution_count": 3,
     "metadata": {},
     "output_type": "execute_result"
    }
   ],
   "source": [
    "df['Label'].value_counts()"
   ]
  },
  {
   "cell_type": "code",
   "execution_count": 4,
   "id": "7ae09961",
   "metadata": {},
   "outputs": [
    {
     "name": "stdout",
     "output_type": "stream",
     "text": [
      "<class 'pandas.core.frame.DataFrame'>\n",
      "RangeIndex: 130 entries, 0 to 129\n",
      "Data columns (total 4 columns):\n",
      " #   Column        Non-Null Count  Dtype  \n",
      "---  ------        --------------  -----  \n",
      " 0   Ratio_L_to_W  130 non-null    float64\n",
      " 1   Angle_Front   130 non-null    int64  \n",
      " 2   Angle_Back    130 non-null    int64  \n",
      " 3   Label         130 non-null    object \n",
      "dtypes: float64(1), int64(2), object(1)\n",
      "memory usage: 4.2+ KB\n"
     ]
    }
   ],
   "source": [
    "df.info()"
   ]
  },
  {
   "cell_type": "code",
   "execution_count": 5,
   "id": "46f123e1",
   "metadata": {},
   "outputs": [
    {
     "data": {
      "text/html": [
       "<div>\n",
       "<style scoped>\n",
       "    .dataframe tbody tr th:only-of-type {\n",
       "        vertical-align: middle;\n",
       "    }\n",
       "\n",
       "    .dataframe tbody tr th {\n",
       "        vertical-align: top;\n",
       "    }\n",
       "\n",
       "    .dataframe thead th {\n",
       "        text-align: right;\n",
       "    }\n",
       "</style>\n",
       "<table border=\"1\" class=\"dataframe\">\n",
       "  <thead>\n",
       "    <tr style=\"text-align: right;\">\n",
       "      <th></th>\n",
       "      <th>Ratio_L_to_W</th>\n",
       "      <th>Angle_Front</th>\n",
       "      <th>Angle_Back</th>\n",
       "      <th>Label</th>\n",
       "    </tr>\n",
       "  </thead>\n",
       "  <tbody>\n",
       "    <tr>\n",
       "      <th>0</th>\n",
       "      <td>False</td>\n",
       "      <td>False</td>\n",
       "      <td>False</td>\n",
       "      <td>False</td>\n",
       "    </tr>\n",
       "    <tr>\n",
       "      <th>1</th>\n",
       "      <td>False</td>\n",
       "      <td>False</td>\n",
       "      <td>False</td>\n",
       "      <td>False</td>\n",
       "    </tr>\n",
       "    <tr>\n",
       "      <th>2</th>\n",
       "      <td>False</td>\n",
       "      <td>False</td>\n",
       "      <td>False</td>\n",
       "      <td>False</td>\n",
       "    </tr>\n",
       "    <tr>\n",
       "      <th>3</th>\n",
       "      <td>False</td>\n",
       "      <td>False</td>\n",
       "      <td>False</td>\n",
       "      <td>False</td>\n",
       "    </tr>\n",
       "    <tr>\n",
       "      <th>4</th>\n",
       "      <td>False</td>\n",
       "      <td>False</td>\n",
       "      <td>False</td>\n",
       "      <td>False</td>\n",
       "    </tr>\n",
       "    <tr>\n",
       "      <th>...</th>\n",
       "      <td>...</td>\n",
       "      <td>...</td>\n",
       "      <td>...</td>\n",
       "      <td>...</td>\n",
       "    </tr>\n",
       "    <tr>\n",
       "      <th>125</th>\n",
       "      <td>False</td>\n",
       "      <td>False</td>\n",
       "      <td>False</td>\n",
       "      <td>False</td>\n",
       "    </tr>\n",
       "    <tr>\n",
       "      <th>126</th>\n",
       "      <td>False</td>\n",
       "      <td>False</td>\n",
       "      <td>False</td>\n",
       "      <td>False</td>\n",
       "    </tr>\n",
       "    <tr>\n",
       "      <th>127</th>\n",
       "      <td>False</td>\n",
       "      <td>False</td>\n",
       "      <td>False</td>\n",
       "      <td>False</td>\n",
       "    </tr>\n",
       "    <tr>\n",
       "      <th>128</th>\n",
       "      <td>False</td>\n",
       "      <td>False</td>\n",
       "      <td>False</td>\n",
       "      <td>False</td>\n",
       "    </tr>\n",
       "    <tr>\n",
       "      <th>129</th>\n",
       "      <td>False</td>\n",
       "      <td>False</td>\n",
       "      <td>False</td>\n",
       "      <td>False</td>\n",
       "    </tr>\n",
       "  </tbody>\n",
       "</table>\n",
       "<p>130 rows × 4 columns</p>\n",
       "</div>"
      ],
      "text/plain": [
       "     Ratio_L_to_W  Angle_Front  Angle_Back  Label\n",
       "0           False        False       False  False\n",
       "1           False        False       False  False\n",
       "2           False        False       False  False\n",
       "3           False        False       False  False\n",
       "4           False        False       False  False\n",
       "..            ...          ...         ...    ...\n",
       "125         False        False       False  False\n",
       "126         False        False       False  False\n",
       "127         False        False       False  False\n",
       "128         False        False       False  False\n",
       "129         False        False       False  False\n",
       "\n",
       "[130 rows x 4 columns]"
      ]
     },
     "execution_count": 5,
     "metadata": {},
     "output_type": "execute_result"
    }
   ],
   "source": [
    "df.isnull()"
   ]
  },
  {
   "cell_type": "code",
   "execution_count": 6,
   "id": "df028c54",
   "metadata": {},
   "outputs": [
    {
     "data": {
      "text/plain": [
       "Ratio_L_to_W    0\n",
       "Angle_Front     0\n",
       "Angle_Back      0\n",
       "Label           0\n",
       "dtype: int64"
      ]
     },
     "execution_count": 6,
     "metadata": {},
     "output_type": "execute_result"
    }
   ],
   "source": [
    "df.isnull().sum()"
   ]
  },
  {
   "cell_type": "code",
   "execution_count": 7,
   "id": "54a707f4",
   "metadata": {},
   "outputs": [
    {
     "data": {
      "text/html": [
       "<div>\n",
       "<style scoped>\n",
       "    .dataframe tbody tr th:only-of-type {\n",
       "        vertical-align: middle;\n",
       "    }\n",
       "\n",
       "    .dataframe tbody tr th {\n",
       "        vertical-align: top;\n",
       "    }\n",
       "\n",
       "    .dataframe thead th {\n",
       "        text-align: right;\n",
       "    }\n",
       "</style>\n",
       "<table border=\"1\" class=\"dataframe\">\n",
       "  <thead>\n",
       "    <tr style=\"text-align: right;\">\n",
       "      <th></th>\n",
       "      <th>Ratio_L_to_W</th>\n",
       "      <th>Angle_Front</th>\n",
       "      <th>Angle_Back</th>\n",
       "      <th>Label</th>\n",
       "    </tr>\n",
       "  </thead>\n",
       "  <tbody>\n",
       "    <tr>\n",
       "      <th>0</th>\n",
       "      <td>2.50</td>\n",
       "      <td>70</td>\n",
       "      <td>85</td>\n",
       "      <td>2</td>\n",
       "    </tr>\n",
       "    <tr>\n",
       "      <th>1</th>\n",
       "      <td>2.55</td>\n",
       "      <td>80</td>\n",
       "      <td>75</td>\n",
       "      <td>2</td>\n",
       "    </tr>\n",
       "    <tr>\n",
       "      <th>2</th>\n",
       "      <td>2.56</td>\n",
       "      <td>140</td>\n",
       "      <td>90</td>\n",
       "      <td>2</td>\n",
       "    </tr>\n",
       "    <tr>\n",
       "      <th>3</th>\n",
       "      <td>2.56</td>\n",
       "      <td>100</td>\n",
       "      <td>85</td>\n",
       "      <td>2</td>\n",
       "    </tr>\n",
       "    <tr>\n",
       "      <th>4</th>\n",
       "      <td>2.56</td>\n",
       "      <td>60</td>\n",
       "      <td>85</td>\n",
       "      <td>2</td>\n",
       "    </tr>\n",
       "  </tbody>\n",
       "</table>\n",
       "</div>"
      ],
      "text/plain": [
       "   Ratio_L_to_W  Angle_Front  Angle_Back  Label\n",
       "0          2.50           70          85      2\n",
       "1          2.55           80          75      2\n",
       "2          2.56          140          90      2\n",
       "3          2.56          100          85      2\n",
       "4          2.56           60          85      2"
      ]
     },
     "execution_count": 7,
     "metadata": {},
     "output_type": "execute_result"
    }
   ],
   "source": [
    "from sklearn.preprocessing import LabelEncoder\n",
    "le = LabelEncoder()\n",
    "df['Label'] = le.fit_transform(df['Label'])\n",
    "df.head()"
   ]
  },
  {
   "cell_type": "code",
   "execution_count": 8,
   "id": "e9e92fc1",
   "metadata": {},
   "outputs": [
    {
     "name": "stdout",
     "output_type": "stream",
     "text": [
      "['Kaluwara' 'Welan' 'Welienna']\n"
     ]
    }
   ],
   "source": [
    "Lable_name=le.classes_\n",
    "print(Lable_name)"
   ]
  },
  {
   "cell_type": "code",
   "execution_count": 9,
   "id": "a2f4bbbe",
   "metadata": {},
   "outputs": [
    {
     "data": {
      "text/html": [
       "<div>\n",
       "<style scoped>\n",
       "    .dataframe tbody tr th:only-of-type {\n",
       "        vertical-align: middle;\n",
       "    }\n",
       "\n",
       "    .dataframe tbody tr th {\n",
       "        vertical-align: top;\n",
       "    }\n",
       "\n",
       "    .dataframe thead th {\n",
       "        text-align: right;\n",
       "    }\n",
       "</style>\n",
       "<table border=\"1\" class=\"dataframe\">\n",
       "  <thead>\n",
       "    <tr style=\"text-align: right;\">\n",
       "      <th></th>\n",
       "      <th>Ratio_L_to_W</th>\n",
       "      <th>Angle_Front</th>\n",
       "      <th>Angle_Back</th>\n",
       "    </tr>\n",
       "  </thead>\n",
       "  <tbody>\n",
       "    <tr>\n",
       "      <th>0</th>\n",
       "      <td>2.50</td>\n",
       "      <td>70</td>\n",
       "      <td>85</td>\n",
       "    </tr>\n",
       "    <tr>\n",
       "      <th>1</th>\n",
       "      <td>2.55</td>\n",
       "      <td>80</td>\n",
       "      <td>75</td>\n",
       "    </tr>\n",
       "    <tr>\n",
       "      <th>2</th>\n",
       "      <td>2.56</td>\n",
       "      <td>140</td>\n",
       "      <td>90</td>\n",
       "    </tr>\n",
       "    <tr>\n",
       "      <th>3</th>\n",
       "      <td>2.56</td>\n",
       "      <td>100</td>\n",
       "      <td>85</td>\n",
       "    </tr>\n",
       "    <tr>\n",
       "      <th>4</th>\n",
       "      <td>2.56</td>\n",
       "      <td>60</td>\n",
       "      <td>85</td>\n",
       "    </tr>\n",
       "  </tbody>\n",
       "</table>\n",
       "</div>"
      ],
      "text/plain": [
       "   Ratio_L_to_W  Angle_Front  Angle_Back\n",
       "0          2.50           70          85\n",
       "1          2.55           80          75\n",
       "2          2.56          140          90\n",
       "3          2.56          100          85\n",
       "4          2.56           60          85"
      ]
     },
     "execution_count": 9,
     "metadata": {},
     "output_type": "execute_result"
    }
   ],
   "source": [
    "x = df.drop(columns=['Label'])\n",
    "y = df['Label']\n",
    "x.head()"
   ]
  },
  {
   "cell_type": "code",
   "execution_count": 10,
   "id": "ccb08588-3532-4c84-ba2c-660048d6d56b",
   "metadata": {},
   "outputs": [
    {
     "name": "stdout",
     "output_type": "stream",
     "text": [
      "0    2\n",
      "1    2\n",
      "2    2\n",
      "3    2\n",
      "4    2\n",
      "Name: Label, dtype: int32\n"
     ]
    }
   ],
   "source": [
    "print(y[:5])"
   ]
  },
  {
   "cell_type": "code",
   "execution_count": 11,
   "id": "42322b56-82c4-4d61-b6e6-1855f028f51e",
   "metadata": {},
   "outputs": [],
   "source": [
    "from sklearn.model_selection import train_test_split\n",
    "x_train, x_test, y_train, y_test = train_test_split(x, y, test_size=0.2, shuffle=True,random_state=72)"
   ]
  },
  {
   "cell_type": "code",
   "execution_count": 12,
   "id": "81bf2fbf-626d-490c-b9b0-a5ae0a1f2eda",
   "metadata": {},
   "outputs": [
    {
     "data": {
      "text/plain": [
       "(104, 3)"
      ]
     },
     "execution_count": 12,
     "metadata": {},
     "output_type": "execute_result"
    }
   ],
   "source": [
    "x_train.shape"
   ]
  },
  {
   "cell_type": "code",
   "execution_count": 13,
   "id": "297ad449-458d-49ba-9d17-89a172f67b1a",
   "metadata": {},
   "outputs": [
    {
     "data": {
      "text/plain": [
       "(104,)"
      ]
     },
     "execution_count": 13,
     "metadata": {},
     "output_type": "execute_result"
    }
   ],
   "source": [
    "y_train.shape"
   ]
  },
  {
   "cell_type": "code",
   "execution_count": 14,
   "id": "4277840a-f846-4976-a9e8-dd473640d2c5",
   "metadata": {},
   "outputs": [
    {
     "name": "stdout",
     "output_type": "stream",
     "text": [
      "     Ratio_L_to_W  Angle_Front  Angle_Back\n",
      "124          1.83           60          85\n",
      "[[-1.36597082 -0.70387097  0.17155272]]\n"
     ]
    }
   ],
   "source": [
    "from sklearn.preprocessing import StandardScaler\n",
    "sc = StandardScaler()\n",
    "print(x_train[:1])\n",
    "x_train = sc.fit_transform(x_train)\n",
    "x_test = sc.transform(x_test)\n",
    "print(x_train[:1])"
   ]
  },
  {
   "cell_type": "code",
   "execution_count": 15,
   "id": "aa474450-a586-4dba-b8fd-74fbbde4f0d8",
   "metadata": {},
   "outputs": [
    {
     "name": "stdout",
     "output_type": "stream",
     "text": [
      "[[0. 1. 0.]\n",
      " [0. 0. 1.]\n",
      " [1. 0. 0.]\n",
      " [1. 0. 0.]\n",
      " [1. 0. 0.]]\n"
     ]
    }
   ],
   "source": [
    "y_train = keras.utils.to_categorical(y_train, num_classes=3)\n",
    "print(y_train[:5])"
   ]
  },
  {
   "cell_type": "code",
   "execution_count": 16,
   "id": "d210149c-21ac-4afb-ac5a-e16a871b7099",
   "metadata": {},
   "outputs": [],
   "source": [
    "from keras.models import Sequential\n",
    "from keras.layers import Dense, Dropout\n",
    "from keras.optimizers import Adam"
   ]
  },
  {
   "cell_type": "code",
   "execution_count": 17,
   "id": "830c6ebb-7075-4019-83d5-f4d27a0b0db1",
   "metadata": {},
   "outputs": [],
   "source": [
    "model= Sequential()\n",
    "model.add(Dense(units=128, activation='relu', input_shape=(3,)))\n",
    "model.add(Dense(units=128, activation='relu'))\n",
    "model.add(Dropout(0.5))\n",
    "model.add(Dense(units=3,activation='softmax'))"
   ]
  },
  {
   "cell_type": "code",
   "execution_count": 18,
   "id": "f744f313-aad5-440f-a287-b01515c90ec7",
   "metadata": {},
   "outputs": [
    {
     "name": "stdout",
     "output_type": "stream",
     "text": [
      "Model: \"sequential\"\n",
      "_________________________________________________________________\n",
      " Layer (type)                Output Shape              Param #   \n",
      "=================================================================\n",
      " dense (Dense)               (None, 128)               512       \n",
      "                                                                 \n",
      " dense_1 (Dense)             (None, 128)               16512     \n",
      "                                                                 \n",
      " dropout (Dropout)           (None, 128)               0         \n",
      "                                                                 \n",
      " dense_2 (Dense)             (None, 3)                 387       \n",
      "                                                                 \n",
      "=================================================================\n",
      "Total params: 17,411\n",
      "Trainable params: 17,411\n",
      "Non-trainable params: 0\n",
      "_________________________________________________________________\n"
     ]
    }
   ],
   "source": [
    "learning_rate = 0.0001  \n",
    "optimizer = Adam(learning_rate=learning_rate)\n",
    "model.compile(optimizer=optimizer, loss='categorical_crossentropy', metrics=['accuracy'])\n",
    "model.summary()"
   ]
  },
  {
   "cell_type": "code",
   "execution_count": 19,
   "id": "29e7a228-db0a-4cff-8f6e-25237e8608fb",
   "metadata": {},
   "outputs": [
    {
     "name": "stdout",
     "output_type": "stream",
     "text": [
      "Epoch 1/100\n",
      "4/4 - 1s - loss: 1.1102 - accuracy: 0.2692 - 936ms/epoch - 234ms/step\n",
      "Epoch 2/100\n",
      "4/4 - 0s - loss: 1.0847 - accuracy: 0.3558 - 13ms/epoch - 3ms/step\n",
      "Epoch 3/100\n",
      "4/4 - 0s - loss: 1.0879 - accuracy: 0.3365 - 15ms/epoch - 4ms/step\n",
      "Epoch 4/100\n",
      "4/4 - 0s - loss: 1.0822 - accuracy: 0.3750 - 17ms/epoch - 4ms/step\n",
      "Epoch 5/100\n",
      "4/4 - 0s - loss: 1.0642 - accuracy: 0.3846 - 16ms/epoch - 4ms/step\n",
      "Epoch 6/100\n",
      "4/4 - 0s - loss: 1.0484 - accuracy: 0.4519 - 15ms/epoch - 4ms/step\n",
      "Epoch 7/100\n",
      "4/4 - 0s - loss: 1.0367 - accuracy: 0.5385 - 16ms/epoch - 4ms/step\n",
      "Epoch 8/100\n",
      "4/4 - 0s - loss: 1.0352 - accuracy: 0.4808 - 16ms/epoch - 4ms/step\n",
      "Epoch 9/100\n",
      "4/4 - 0s - loss: 1.0254 - accuracy: 0.5288 - 18ms/epoch - 4ms/step\n",
      "Epoch 10/100\n",
      "4/4 - 0s - loss: 1.0056 - accuracy: 0.5865 - 19ms/epoch - 5ms/step\n",
      "Epoch 11/100\n",
      "4/4 - 0s - loss: 0.9839 - accuracy: 0.6442 - 16ms/epoch - 4ms/step\n",
      "Epoch 12/100\n",
      "4/4 - 0s - loss: 0.9653 - accuracy: 0.7019 - 16ms/epoch - 4ms/step\n",
      "Epoch 13/100\n",
      "4/4 - 0s - loss: 0.9441 - accuracy: 0.6635 - 16ms/epoch - 4ms/step\n",
      "Epoch 14/100\n",
      "4/4 - 0s - loss: 0.9433 - accuracy: 0.7212 - 18ms/epoch - 4ms/step\n",
      "Epoch 15/100\n",
      "4/4 - 0s - loss: 0.9299 - accuracy: 0.7404 - 18ms/epoch - 4ms/step\n",
      "Epoch 16/100\n",
      "4/4 - 0s - loss: 0.9103 - accuracy: 0.7981 - 17ms/epoch - 4ms/step\n",
      "Epoch 17/100\n",
      "4/4 - 0s - loss: 0.8983 - accuracy: 0.7885 - 7ms/epoch - 2ms/step\n",
      "Epoch 18/100\n",
      "4/4 - 0s - loss: 0.9057 - accuracy: 0.8173 - 16ms/epoch - 4ms/step\n",
      "Epoch 19/100\n",
      "4/4 - 0s - loss: 0.8787 - accuracy: 0.8558 - 18ms/epoch - 4ms/step\n",
      "Epoch 20/100\n",
      "4/4 - 0s - loss: 0.8877 - accuracy: 0.7981 - 19ms/epoch - 5ms/step\n",
      "Epoch 21/100\n",
      "4/4 - 0s - loss: 0.8580 - accuracy: 0.8365 - 17ms/epoch - 4ms/step\n",
      "Epoch 22/100\n",
      "4/4 - 0s - loss: 0.8578 - accuracy: 0.8173 - 18ms/epoch - 4ms/step\n",
      "Epoch 23/100\n",
      "4/4 - 0s - loss: 0.8635 - accuracy: 0.7885 - 16ms/epoch - 4ms/step\n",
      "Epoch 24/100\n",
      "4/4 - 0s - loss: 0.8423 - accuracy: 0.8750 - 18ms/epoch - 4ms/step\n",
      "Epoch 25/100\n",
      "4/4 - 0s - loss: 0.8224 - accuracy: 0.7981 - 17ms/epoch - 4ms/step\n",
      "Epoch 26/100\n",
      "4/4 - 0s - loss: 0.8148 - accuracy: 0.8365 - 15ms/epoch - 4ms/step\n",
      "Epoch 27/100\n",
      "4/4 - 0s - loss: 0.8188 - accuracy: 0.8365 - 17ms/epoch - 4ms/step\n",
      "Epoch 28/100\n",
      "4/4 - 0s - loss: 0.7904 - accuracy: 0.8462 - 16ms/epoch - 4ms/step\n",
      "Epoch 29/100\n",
      "4/4 - 0s - loss: 0.7876 - accuracy: 0.8173 - 17ms/epoch - 4ms/step\n",
      "Epoch 30/100\n",
      "4/4 - 0s - loss: 0.7803 - accuracy: 0.8558 - 10ms/epoch - 2ms/step\n",
      "Epoch 31/100\n",
      "4/4 - 0s - loss: 0.7448 - accuracy: 0.8558 - 13ms/epoch - 3ms/step\n",
      "Epoch 32/100\n",
      "4/4 - 0s - loss: 0.7749 - accuracy: 0.8558 - 14ms/epoch - 4ms/step\n",
      "Epoch 33/100\n",
      "4/4 - 0s - loss: 0.7490 - accuracy: 0.8558 - 18ms/epoch - 4ms/step\n",
      "Epoch 34/100\n",
      "4/4 - 0s - loss: 0.7368 - accuracy: 0.8558 - 18ms/epoch - 5ms/step\n",
      "Epoch 35/100\n",
      "4/4 - 0s - loss: 0.7176 - accuracy: 0.9038 - 15ms/epoch - 4ms/step\n",
      "Epoch 36/100\n",
      "4/4 - 0s - loss: 0.7156 - accuracy: 0.8654 - 16ms/epoch - 4ms/step\n",
      "Epoch 37/100\n",
      "4/4 - 0s - loss: 0.7150 - accuracy: 0.8654 - 16ms/epoch - 4ms/step\n",
      "Epoch 38/100\n",
      "4/4 - 0s - loss: 0.6702 - accuracy: 0.8846 - 6ms/epoch - 2ms/step\n",
      "Epoch 39/100\n",
      "4/4 - 0s - loss: 0.6908 - accuracy: 0.9135 - 99ms/epoch - 25ms/step\n",
      "Epoch 40/100\n",
      "4/4 - 0s - loss: 0.6943 - accuracy: 0.8846 - 33ms/epoch - 8ms/step\n",
      "Epoch 41/100\n",
      "4/4 - 0s - loss: 0.6584 - accuracy: 0.8750 - 21ms/epoch - 5ms/step\n",
      "Epoch 42/100\n",
      "4/4 - 0s - loss: 0.6594 - accuracy: 0.8558 - 19ms/epoch - 5ms/step\n",
      "Epoch 43/100\n",
      "4/4 - 0s - loss: 0.6580 - accuracy: 0.9038 - 16ms/epoch - 4ms/step\n",
      "Epoch 44/100\n",
      "4/4 - 0s - loss: 0.6413 - accuracy: 0.8750 - 7ms/epoch - 2ms/step\n",
      "Epoch 45/100\n",
      "4/4 - 0s - loss: 0.6518 - accuracy: 0.8654 - 22ms/epoch - 5ms/step\n",
      "Epoch 46/100\n",
      "4/4 - 0s - loss: 0.6243 - accuracy: 0.8942 - 23ms/epoch - 6ms/step\n",
      "Epoch 47/100\n",
      "4/4 - 0s - loss: 0.6266 - accuracy: 0.8750 - 15ms/epoch - 4ms/step\n",
      "Epoch 48/100\n",
      "4/4 - 0s - loss: 0.6206 - accuracy: 0.8942 - 15ms/epoch - 4ms/step\n",
      "Epoch 49/100\n",
      "4/4 - 0s - loss: 0.6112 - accuracy: 0.8846 - 19ms/epoch - 5ms/step\n",
      "Epoch 50/100\n",
      "4/4 - 0s - loss: 0.6047 - accuracy: 0.8942 - 15ms/epoch - 4ms/step\n",
      "Epoch 51/100\n",
      "4/4 - 0s - loss: 0.5820 - accuracy: 0.9135 - 7ms/epoch - 2ms/step\n",
      "Epoch 52/100\n",
      "4/4 - 0s - loss: 0.5803 - accuracy: 0.8942 - 9ms/epoch - 2ms/step\n",
      "Epoch 53/100\n",
      "4/4 - 0s - loss: 0.5744 - accuracy: 0.8750 - 14ms/epoch - 4ms/step\n",
      "Epoch 54/100\n",
      "4/4 - 0s - loss: 0.5776 - accuracy: 0.8750 - 15ms/epoch - 4ms/step\n",
      "Epoch 55/100\n",
      "4/4 - 0s - loss: 0.5663 - accuracy: 0.8846 - 12ms/epoch - 3ms/step\n",
      "Epoch 56/100\n",
      "4/4 - 0s - loss: 0.5515 - accuracy: 0.8558 - 17ms/epoch - 4ms/step\n",
      "Epoch 57/100\n",
      "4/4 - 0s - loss: 0.5382 - accuracy: 0.8846 - 18ms/epoch - 4ms/step\n",
      "Epoch 58/100\n",
      "4/4 - 0s - loss: 0.5526 - accuracy: 0.8750 - 8ms/epoch - 2ms/step\n",
      "Epoch 59/100\n",
      "4/4 - 0s - loss: 0.5334 - accuracy: 0.9423 - 6ms/epoch - 1ms/step\n",
      "Epoch 60/100\n",
      "4/4 - 0s - loss: 0.5169 - accuracy: 0.8846 - 15ms/epoch - 4ms/step\n",
      "Epoch 61/100\n",
      "4/4 - 0s - loss: 0.5117 - accuracy: 0.8846 - 15ms/epoch - 4ms/step\n",
      "Epoch 62/100\n",
      "4/4 - 0s - loss: 0.5265 - accuracy: 0.8558 - 15ms/epoch - 4ms/step\n",
      "Epoch 63/100\n",
      "4/4 - 0s - loss: 0.5012 - accuracy: 0.8846 - 15ms/epoch - 4ms/step\n",
      "Epoch 64/100\n",
      "4/4 - 0s - loss: 0.5168 - accuracy: 0.8846 - 17ms/epoch - 4ms/step\n",
      "Epoch 65/100\n",
      "4/4 - 0s - loss: 0.4982 - accuracy: 0.9231 - 10ms/epoch - 2ms/step\n",
      "Epoch 66/100\n",
      "4/4 - 0s - loss: 0.4850 - accuracy: 0.8846 - 77ms/epoch - 19ms/step\n",
      "Epoch 67/100\n",
      "4/4 - 0s - loss: 0.4790 - accuracy: 0.8942 - 35ms/epoch - 9ms/step\n",
      "Epoch 68/100\n",
      "4/4 - 0s - loss: 0.4699 - accuracy: 0.9038 - 16ms/epoch - 4ms/step\n",
      "Epoch 69/100\n",
      "4/4 - 0s - loss: 0.4942 - accuracy: 0.9038 - 17ms/epoch - 4ms/step\n",
      "Epoch 70/100\n",
      "4/4 - 0s - loss: 0.4769 - accuracy: 0.8846 - 18ms/epoch - 5ms/step\n",
      "Epoch 71/100\n",
      "4/4 - 0s - loss: 0.4572 - accuracy: 0.9135 - 16ms/epoch - 4ms/step\n",
      "Epoch 72/100\n",
      "4/4 - 0s - loss: 0.4700 - accuracy: 0.8750 - 17ms/epoch - 4ms/step\n",
      "Epoch 73/100\n",
      "4/4 - 0s - loss: 0.4557 - accuracy: 0.9135 - 20ms/epoch - 5ms/step\n",
      "Epoch 74/100\n",
      "4/4 - 0s - loss: 0.4229 - accuracy: 0.9038 - 0s/epoch - 0s/step\n",
      "Epoch 75/100\n",
      "4/4 - 0s - loss: 0.4520 - accuracy: 0.8846 - 0s/epoch - 0s/step\n",
      "Epoch 76/100\n",
      "4/4 - 0s - loss: 0.4437 - accuracy: 0.8846 - 2ms/epoch - 397us/step\n",
      "Epoch 77/100\n",
      "4/4 - 0s - loss: 0.4238 - accuracy: 0.8942 - 15ms/epoch - 4ms/step\n",
      "Epoch 78/100\n",
      "4/4 - 0s - loss: 0.4282 - accuracy: 0.8846 - 16ms/epoch - 4ms/step\n",
      "Epoch 79/100\n",
      "4/4 - 0s - loss: 0.4281 - accuracy: 0.9135 - 14ms/epoch - 3ms/step\n",
      "Epoch 80/100\n",
      "4/4 - 0s - loss: 0.4136 - accuracy: 0.9135 - 14ms/epoch - 3ms/step\n",
      "Epoch 81/100\n",
      "4/4 - 0s - loss: 0.4011 - accuracy: 0.8942 - 9ms/epoch - 2ms/step\n",
      "Epoch 82/100\n",
      "4/4 - 0s - loss: 0.3980 - accuracy: 0.9231 - 21ms/epoch - 5ms/step\n",
      "Epoch 83/100\n",
      "4/4 - 0s - loss: 0.3828 - accuracy: 0.9135 - 17ms/epoch - 4ms/step\n",
      "Epoch 84/100\n",
      "4/4 - 0s - loss: 0.4162 - accuracy: 0.9038 - 15ms/epoch - 4ms/step\n",
      "Epoch 85/100\n",
      "4/4 - 0s - loss: 0.3993 - accuracy: 0.9135 - 4ms/epoch - 1ms/step\n",
      "Epoch 86/100\n",
      "4/4 - 0s - loss: 0.3833 - accuracy: 0.9038 - 19ms/epoch - 5ms/step\n",
      "Epoch 87/100\n",
      "4/4 - 0s - loss: 0.3662 - accuracy: 0.9135 - 19ms/epoch - 5ms/step\n",
      "Epoch 88/100\n",
      "4/4 - 0s - loss: 0.3790 - accuracy: 0.9135 - 10ms/epoch - 2ms/step\n",
      "Epoch 89/100\n",
      "4/4 - 0s - loss: 0.3771 - accuracy: 0.9135 - 11ms/epoch - 3ms/step\n",
      "Epoch 90/100\n",
      "4/4 - 0s - loss: 0.3955 - accuracy: 0.9231 - 2ms/epoch - 531us/step\n",
      "Epoch 91/100\n",
      "4/4 - 0s - loss: 0.3804 - accuracy: 0.8942 - 10ms/epoch - 3ms/step\n",
      "Epoch 92/100\n",
      "4/4 - 0s - loss: 0.3597 - accuracy: 0.9135 - 11ms/epoch - 3ms/step\n",
      "Epoch 93/100\n",
      "4/4 - 0s - loss: 0.3610 - accuracy: 0.9231 - 11ms/epoch - 3ms/step\n",
      "Epoch 94/100\n",
      "4/4 - 0s - loss: 0.3585 - accuracy: 0.9135 - 11ms/epoch - 3ms/step\n",
      "Epoch 95/100\n",
      "4/4 - 0s - loss: 0.3445 - accuracy: 0.9135 - 10ms/epoch - 3ms/step\n",
      "Epoch 96/100\n",
      "4/4 - 0s - loss: 0.3662 - accuracy: 0.9135 - 12ms/epoch - 3ms/step\n",
      "Epoch 97/100\n",
      "4/4 - 0s - loss: 0.3370 - accuracy: 0.9327 - 11ms/epoch - 3ms/step\n",
      "Epoch 98/100\n",
      "4/4 - 0s - loss: 0.3281 - accuracy: 0.9231 - 11ms/epoch - 3ms/step\n",
      "Epoch 99/100\n",
      "4/4 - 0s - loss: 0.3422 - accuracy: 0.9135 - 50ms/epoch - 12ms/step\n",
      "Epoch 100/100\n",
      "4/4 - 0s - loss: 0.3312 - accuracy: 0.9135 - 40ms/epoch - 10ms/step\n"
     ]
    }
   ],
   "source": [
    "history=model.fit(x_train, y_train, epochs=100, verbose=2) "
   ]
  },
  {
   "cell_type": "code",
   "execution_count": 20,
   "id": "9bd88c6e-c597-41ea-9677-ea3f2dc89b6d",
   "metadata": {},
   "outputs": [
    {
     "data": {
      "text/plain": [
       "dict_keys(['loss', 'accuracy'])"
      ]
     },
     "execution_count": 20,
     "metadata": {},
     "output_type": "execute_result"
    }
   ],
   "source": [
    "history_dict = history.history\n",
    "history_dict.keys()"
   ]
  },
  {
   "cell_type": "code",
   "execution_count": 21,
   "id": "5942be0a-0348-4fdd-8226-f64b687cb58e",
   "metadata": {},
   "outputs": [
    {
     "data": {
      "image/png": "[encoded data removed]",
      "text/plain": [
       "<Figure size 640x480 with 1 Axes>"
      ]
     },
     "metadata": {},
     "output_type": "display_data"
    }
   ],
   "source": [
    "import matplotlib.pyplot as plt\n",
    "history_dict = history.history\n",
    "loss_values = history_dict['loss']\n",
    "epochs = range(1, 101)\n",
    "plt.plot(epochs, loss_values, 'c',label='Training loss')\n",
    "plt.title('Training loss')\n",
    "plt.xlabel('Epochs')\n",
    "plt.ylabel('Loss')\n",
    "plt.legend()\n",
    "plt.show()"
   ]
  },
  {
   "cell_type": "code",
   "execution_count": 22,
   "id": "d470d788-98ad-4f8f-a0de-a668abe297ca",
   "metadata": {},
   "outputs": [
    {
     "data": {
      "image/png": "[encoded data removed]",
      "text/plain": [
       "<Figure size 640x480 with 1 Axes>"
      ]
     },
     "metadata": {},
     "output_type": "display_data"
    }
   ],
   "source": [
    "plt.clf()\n",
    "acc_values = history_dict['accuracy']\n",
    "plt.plot(epochs, acc_values, 'c', label='Training acc')\n",
    "plt.title('Training accuracy')\n",
    "plt.xlabel('Epochs')\n",
    "plt.ylabel('Loss')\n",
    "plt.legend()\n",
    "plt.show()"
   ]
  },
  {
   "cell_type": "code",
   "execution_count": 23,
   "id": "f6ed177a-6e12-4924-8bcf-cdd6598eb0e7",
   "metadata": {},
   "outputs": [
    {
     "name": "stdout",
     "output_type": "stream",
     "text": [
      "1/1 [==============================] - 0s 109ms/step\n",
      "[[0.10693717 0.00822982 0.88483304]\n",
      " [0.04437096 0.9170121  0.03861696]\n",
      " [0.0782613  0.88093317 0.04080551]\n",
      " [0.05439727 0.89931834 0.04628427]\n",
      " [0.5791845  0.10452119 0.31629434]]\n"
     ]
    }
   ],
   "source": [
    "prediction= model.predict(x_test)\n",
    "print(prediction[:5])"
   ]
  },
  {
   "cell_type": "code",
   "execution_count": 24,
   "id": "97150d3d-89c4-4fcb-975d-8b6eb337db0a",
   "metadata": {},
   "outputs": [
    {
     "name": "stdout",
     "output_type": "stream",
     "text": [
      "[2 1 1 1 0]\n"
     ]
    }
   ],
   "source": [
    "prediction = np.argmax(prediction, axis=-1)\n",
    "print(prediction[:5])"
   ]
  },
  {
   "cell_type": "code",
   "execution_count": 26,
   "id": "3ab85cdf-6373-4339-bd0c-3da126f8e284",
   "metadata": {},
   "outputs": [
    {
     "name": "stdout",
     "output_type": "stream",
     "text": [
      "27     2\n",
      "126    1\n",
      "84     1\n",
      "128    1\n",
      "62     0\n",
      "Name: Label, dtype: int32\n"
     ]
    }
   ],
   "source": [
    "print(y_test[:5])"
   ]
  },
  {
   "cell_type": "code",
   "execution_count": 27,
   "id": "ac5ff89d-3bb9-46a7-b463-97862d9e955e",
   "metadata": {},
   "outputs": [
    {
     "name": "stdout",
     "output_type": "stream",
     "text": [
      "0.9615384615384616\n"
     ]
    }
   ],
   "source": [
    "from sklearn.metrics import accuracy_score, confusion_matrix\n",
    "print(accuracy_score(y_test, prediction))"
   ]
  },
  {
   "cell_type": "code",
   "execution_count": 28,
   "id": "57df30e6-4836-49f9-8ae2-2cf5e5101692",
   "metadata": {},
   "outputs": [
    {
     "name": "stdout",
     "output_type": "stream",
     "text": [
      "[[ 4  0  1]\n",
      " [ 0  9  0]\n",
      " [ 0  0 12]]\n"
     ]
    }
   ],
   "source": [
    "cm= confusion_matrix(y_test, prediction)\n",
    "print(cm)"
   ]
  },
  {
   "cell_type": "code",
   "execution_count": 29,
   "id": "46239d38-61ef-43cc-b17d-0fece1cc3ef7",
   "metadata": {},
   "outputs": [
    {
     "data": {
      "text/plain": [
       "Text(50.722222222222214, 0.5, 'actual')"
      ]
     },
     "execution_count": 29,
     "metadata": {},
     "output_type": "execute_result"
    },
    {
     "data": {
      "image/png": "[encoded data removed]",
      "text/plain": [
       "<Figure size 640x480 with 2 Axes>"
      ]
     },
     "metadata": {},
     "output_type": "display_data"
    }
   ],
   "source": [
    "ax = sns.heatmap(cm, annot=True, fmt='d',cmap='Reds',xticklabels=Lable_name, yticklabels=Lable_name)\n",
    "ax.set_title('confution matrix for leaves dataset prediction')\n",
    "ax.set_xlabel('prediction', fontsize=14)\n",
    "ax.set_ylabel('actual', fontsize=14)"
   ]
  },
  {
   "cell_type": "code",
   "execution_count": null,
   "id": "dfa15d2b-f653-4f53-b552-e183f3496eb4",
   "metadata": {},
   "outputs": [],
   "source": []
  }
 ],
 "metadata": {
  "kernelspec": {
   "display_name": "Python 3 (ipykernel)",
   "language": "python",
   "name": "python3"
  },
  "language_info": {
   "codemirror_mode": {
    "name": "ipython",
    "version": 3
   },
   "file_extension": ".py",
   "mimetype": "text/x-python",
   "name": "python",
   "nbconvert_exporter": "python",
   "pygments_lexer": "ipython3",
   "version": "3.10.13"
  }
 },
 "nbformat": 4,
 "nbformat_minor": 5
}
