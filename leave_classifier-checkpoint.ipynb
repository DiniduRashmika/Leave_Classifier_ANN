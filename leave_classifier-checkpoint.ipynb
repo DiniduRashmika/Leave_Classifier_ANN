{
 "cells": [
  {
   "cell_type": "markdown",
   "id": "4e3e8230",
   "metadata": {},
   "source": [
    "# Leave Classifier"
   ]
  },
  {
   "cell_type": "markdown",
   "id": "97bbd697",
   "metadata": {},
   "source": [
    "team cognicrew"
   ]
  },
  {
   "cell_type": "code",
   "execution_count": 2,
   "id": "5c0d4a2e",
   "metadata": {},
   "outputs": [],
   "source": [
    "import pandas as pd\n",
    "import numpy as np\n",
    "import seaborn as sns\n",
    "from tensorflow import keras"
   ]
  },
  {
   "cell_type": "code",
   "execution_count": 3,
   "id": "32beea68",
   "metadata": {},
   "outputs": [
    {
     "data": {
      "text/html": [
       "<div>\n",
       "<style scoped>\n",
       "    .dataframe tbody tr th:only-of-type {\n",
       "        vertical-align: middle;\n",
       "    }\n",
       "\n",
       "    .dataframe tbody tr th {\n",
       "        vertical-align: top;\n",
       "    }\n",
       "\n",
       "    .dataframe thead th {\n",
       "        text-align: right;\n",
       "    }\n",
       "</style>\n",
       "<table border=\"1\" class=\"dataframe\">\n",
       "  <thead>\n",
       "    <tr style=\"text-align: right;\">\n",
       "      <th></th>\n",
       "      <th>Ratio_L_to_W</th>\n",
       "      <th>Angle_Front</th>\n",
       "      <th>Angle_Back</th>\n",
       "      <th>Label</th>\n",
       "    </tr>\n",
       "  </thead>\n",
       "  <tbody>\n",
       "    <tr>\n",
       "      <th>0</th>\n",
       "      <td>2.50</td>\n",
       "      <td>70</td>\n",
       "      <td>85</td>\n",
       "      <td>Welienna</td>\n",
       "    </tr>\n",
       "    <tr>\n",
       "      <th>1</th>\n",
       "      <td>2.55</td>\n",
       "      <td>80</td>\n",
       "      <td>75</td>\n",
       "      <td>Welienna</td>\n",
       "    </tr>\n",
       "    <tr>\n",
       "      <th>2</th>\n",
       "      <td>2.56</td>\n",
       "      <td>140</td>\n",
       "      <td>90</td>\n",
       "      <td>Welienna</td>\n",
       "    </tr>\n",
       "    <tr>\n",
       "      <th>3</th>\n",
       "      <td>2.56</td>\n",
       "      <td>100</td>\n",
       "      <td>85</td>\n",
       "      <td>Welienna</td>\n",
       "    </tr>\n",
       "    <tr>\n",
       "      <th>4</th>\n",
       "      <td>2.56</td>\n",
       "      <td>60</td>\n",
       "      <td>85</td>\n",
       "      <td>Welienna</td>\n",
       "    </tr>\n",
       "  </tbody>\n",
       "</table>\n",
       "</div>"
      ],
      "text/plain": [
       "   Ratio_L_to_W  Angle_Front  Angle_Back     Label\n",
       "0          2.50           70          85  Welienna\n",
       "1          2.55           80          75  Welienna\n",
       "2          2.56          140          90  Welienna\n",
       "3          2.56          100          85  Welienna\n",
       "4          2.56           60          85  Welienna"
      ]
     },
     "execution_count": 3,
     "metadata": {},
     "output_type": "execute_result"
    }
   ],
   "source": [
    "df = pd.read_csv('leave_traning_dataset_01.csv')\n",
    "df.head()"
   ]
  },
  {
   "cell_type": "code",
   "execution_count": 4,
   "id": "8a051dfb",
   "metadata": {},
   "outputs": [
    {
     "data": {
      "text/plain": [
       "Label\n",
       "Welan       34\n",
       "Welienna    33\n",
       "Kaluwara    33\n",
       "Name: count, dtype: int64"
      ]
     },
     "execution_count": 4,
     "metadata": {},
     "output_type": "execute_result"
    }
   ],
   "source": [
    "df['Label'].value_counts()"
   ]
  },
  {
   "cell_type": "code",
   "execution_count": 5,
   "id": "7ae09961",
   "metadata": {},
   "outputs": [
    {
     "name": "stdout",
     "output_type": "stream",
     "text": [
      "<class 'pandas.core.frame.DataFrame'>\n",
      "RangeIndex: 100 entries, 0 to 99\n",
      "Data columns (total 4 columns):\n",
      " #   Column        Non-Null Count  Dtype  \n",
      "---  ------        --------------  -----  \n",
      " 0   Ratio_L_to_W  100 non-null    float64\n",
      " 1   Angle_Front   100 non-null    int64  \n",
      " 2   Angle_Back    100 non-null    int64  \n",
      " 3   Label         100 non-null    object \n",
      "dtypes: float64(1), int64(2), object(1)\n",
      "memory usage: 3.2+ KB\n"
     ]
    }
   ],
   "source": [
    "df.info()"
   ]
  },
  {
   "cell_type": "code",
   "execution_count": 6,
   "id": "46f123e1",
   "metadata": {},
   "outputs": [
    {
     "data": {
      "text/html": [
       "<div>\n",
       "<style scoped>\n",
       "    .dataframe tbody tr th:only-of-type {\n",
       "        vertical-align: middle;\n",
       "    }\n",
       "\n",
       "    .dataframe tbody tr th {\n",
       "        vertical-align: top;\n",
       "    }\n",
       "\n",
       "    .dataframe thead th {\n",
       "        text-align: right;\n",
       "    }\n",
       "</style>\n",
       "<table border=\"1\" class=\"dataframe\">\n",
       "  <thead>\n",
       "    <tr style=\"text-align: right;\">\n",
       "      <th></th>\n",
       "      <th>Ratio_L_to_W</th>\n",
       "      <th>Angle_Front</th>\n",
       "      <th>Angle_Back</th>\n",
       "      <th>Label</th>\n",
       "    </tr>\n",
       "  </thead>\n",
       "  <tbody>\n",
       "    <tr>\n",
       "      <th>0</th>\n",
       "      <td>False</td>\n",
       "      <td>False</td>\n",
       "      <td>False</td>\n",
       "      <td>False</td>\n",
       "    </tr>\n",
       "    <tr>\n",
       "      <th>1</th>\n",
       "      <td>False</td>\n",
       "      <td>False</td>\n",
       "      <td>False</td>\n",
       "      <td>False</td>\n",
       "    </tr>\n",
       "    <tr>\n",
       "      <th>2</th>\n",
       "      <td>False</td>\n",
       "      <td>False</td>\n",
       "      <td>False</td>\n",
       "      <td>False</td>\n",
       "    </tr>\n",
       "    <tr>\n",
       "      <th>3</th>\n",
       "      <td>False</td>\n",
       "      <td>False</td>\n",
       "      <td>False</td>\n",
       "      <td>False</td>\n",
       "    </tr>\n",
       "    <tr>\n",
       "      <th>4</th>\n",
       "      <td>False</td>\n",
       "      <td>False</td>\n",
       "      <td>False</td>\n",
       "      <td>False</td>\n",
       "    </tr>\n",
       "    <tr>\n",
       "      <th>...</th>\n",
       "      <td>...</td>\n",
       "      <td>...</td>\n",
       "      <td>...</td>\n",
       "      <td>...</td>\n",
       "    </tr>\n",
       "    <tr>\n",
       "      <th>95</th>\n",
       "      <td>False</td>\n",
       "      <td>False</td>\n",
       "      <td>False</td>\n",
       "      <td>False</td>\n",
       "    </tr>\n",
       "    <tr>\n",
       "      <th>96</th>\n",
       "      <td>False</td>\n",
       "      <td>False</td>\n",
       "      <td>False</td>\n",
       "      <td>False</td>\n",
       "    </tr>\n",
       "    <tr>\n",
       "      <th>97</th>\n",
       "      <td>False</td>\n",
       "      <td>False</td>\n",
       "      <td>False</td>\n",
       "      <td>False</td>\n",
       "    </tr>\n",
       "    <tr>\n",
       "      <th>98</th>\n",
       "      <td>False</td>\n",
       "      <td>False</td>\n",
       "      <td>False</td>\n",
       "      <td>False</td>\n",
       "    </tr>\n",
       "    <tr>\n",
       "      <th>99</th>\n",
       "      <td>False</td>\n",
       "      <td>False</td>\n",
       "      <td>False</td>\n",
       "      <td>False</td>\n",
       "    </tr>\n",
       "  </tbody>\n",
       "</table>\n",
       "<p>100 rows × 4 columns</p>\n",
       "</div>"
      ],
      "text/plain": [
       "    Ratio_L_to_W  Angle_Front  Angle_Back  Label\n",
       "0          False        False       False  False\n",
       "1          False        False       False  False\n",
       "2          False        False       False  False\n",
       "3          False        False       False  False\n",
       "4          False        False       False  False\n",
       "..           ...          ...         ...    ...\n",
       "95         False        False       False  False\n",
       "96         False        False       False  False\n",
       "97         False        False       False  False\n",
       "98         False        False       False  False\n",
       "99         False        False       False  False\n",
       "\n",
       "[100 rows x 4 columns]"
      ]
     },
     "execution_count": 6,
     "metadata": {},
     "output_type": "execute_result"
    }
   ],
   "source": [
    "df.isnull()"
   ]
  },
  {
   "cell_type": "code",
   "execution_count": 7,
   "id": "df028c54",
   "metadata": {},
   "outputs": [
    {
     "data": {
      "text/plain": [
       "Ratio_L_to_W    0\n",
       "Angle_Front     0\n",
       "Angle_Back      0\n",
       "Label           0\n",
       "dtype: int64"
      ]
     },
     "execution_count": 7,
     "metadata": {},
     "output_type": "execute_result"
    }
   ],
   "source": [
    "df.isnull().sum()"
   ]
  },
  {
   "cell_type": "code",
   "execution_count": 8,
   "id": "54a707f4",
   "metadata": {},
   "outputs": [
    {
     "data": {
      "text/html": [
       "<div>\n",
       "<style scoped>\n",
       "    .dataframe tbody tr th:only-of-type {\n",
       "        vertical-align: middle;\n",
       "    }\n",
       "\n",
       "    .dataframe tbody tr th {\n",
       "        vertical-align: top;\n",
       "    }\n",
       "\n",
       "    .dataframe thead th {\n",
       "        text-align: right;\n",
       "    }\n",
       "</style>\n",
       "<table border=\"1\" class=\"dataframe\">\n",
       "  <thead>\n",
       "    <tr style=\"text-align: right;\">\n",
       "      <th></th>\n",
       "      <th>Ratio_L_to_W</th>\n",
       "      <th>Angle_Front</th>\n",
       "      <th>Angle_Back</th>\n",
       "      <th>Label</th>\n",
       "    </tr>\n",
       "  </thead>\n",
       "  <tbody>\n",
       "    <tr>\n",
       "      <th>0</th>\n",
       "      <td>2.50</td>\n",
       "      <td>70</td>\n",
       "      <td>85</td>\n",
       "      <td>2</td>\n",
       "    </tr>\n",
       "    <tr>\n",
       "      <th>1</th>\n",
       "      <td>2.55</td>\n",
       "      <td>80</td>\n",
       "      <td>75</td>\n",
       "      <td>2</td>\n",
       "    </tr>\n",
       "    <tr>\n",
       "      <th>2</th>\n",
       "      <td>2.56</td>\n",
       "      <td>140</td>\n",
       "      <td>90</td>\n",
       "      <td>2</td>\n",
       "    </tr>\n",
       "    <tr>\n",
       "      <th>3</th>\n",
       "      <td>2.56</td>\n",
       "      <td>100</td>\n",
       "      <td>85</td>\n",
       "      <td>2</td>\n",
       "    </tr>\n",
       "    <tr>\n",
       "      <th>4</th>\n",
       "      <td>2.56</td>\n",
       "      <td>60</td>\n",
       "      <td>85</td>\n",
       "      <td>2</td>\n",
       "    </tr>\n",
       "  </tbody>\n",
       "</table>\n",
       "</div>"
      ],
      "text/plain": [
       "   Ratio_L_to_W  Angle_Front  Angle_Back  Label\n",
       "0          2.50           70          85      2\n",
       "1          2.55           80          75      2\n",
       "2          2.56          140          90      2\n",
       "3          2.56          100          85      2\n",
       "4          2.56           60          85      2"
      ]
     },
     "execution_count": 8,
     "metadata": {},
     "output_type": "execute_result"
    }
   ],
   "source": [
    "from sklearn.preprocessing import LabelEncoder\n",
    "le = LabelEncoder()\n",
    "df['Label'] = le.fit_transform(df['Label'])\n",
    "df.head()"
   ]
  },
  {
   "cell_type": "code",
   "execution_count": 9,
   "id": "e9e92fc1",
   "metadata": {},
   "outputs": [
    {
     "name": "stdout",
     "output_type": "stream",
     "text": [
      "['Kaluwara' 'Welan' 'Welienna']\n"
     ]
    }
   ],
   "source": [
    "Lable_name=le.classes_\n",
    "print(Lable_name)"
   ]
  },
  {
   "cell_type": "code",
   "execution_count": 10,
   "id": "a2f4bbbe",
   "metadata": {},
   "outputs": [
    {
     "data": {
      "text/html": [
       "<div>\n",
       "<style scoped>\n",
       "    .dataframe tbody tr th:only-of-type {\n",
       "        vertical-align: middle;\n",
       "    }\n",
       "\n",
       "    .dataframe tbody tr th {\n",
       "        vertical-align: top;\n",
       "    }\n",
       "\n",
       "    .dataframe thead th {\n",
       "        text-align: right;\n",
       "    }\n",
       "</style>\n",
       "<table border=\"1\" class=\"dataframe\">\n",
       "  <thead>\n",
       "    <tr style=\"text-align: right;\">\n",
       "      <th></th>\n",
       "      <th>Ratio_L_to_W</th>\n",
       "      <th>Angle_Front</th>\n",
       "      <th>Angle_Back</th>\n",
       "    </tr>\n",
       "  </thead>\n",
       "  <tbody>\n",
       "    <tr>\n",
       "      <th>0</th>\n",
       "      <td>2.50</td>\n",
       "      <td>70</td>\n",
       "      <td>85</td>\n",
       "    </tr>\n",
       "    <tr>\n",
       "      <th>1</th>\n",
       "      <td>2.55</td>\n",
       "      <td>80</td>\n",
       "      <td>75</td>\n",
       "    </tr>\n",
       "    <tr>\n",
       "      <th>2</th>\n",
       "      <td>2.56</td>\n",
       "      <td>140</td>\n",
       "      <td>90</td>\n",
       "    </tr>\n",
       "    <tr>\n",
       "      <th>3</th>\n",
       "      <td>2.56</td>\n",
       "      <td>100</td>\n",
       "      <td>85</td>\n",
       "    </tr>\n",
       "    <tr>\n",
       "      <th>4</th>\n",
       "      <td>2.56</td>\n",
       "      <td>60</td>\n",
       "      <td>85</td>\n",
       "    </tr>\n",
       "  </tbody>\n",
       "</table>\n",
       "</div>"
      ],
      "text/plain": [
       "   Ratio_L_to_W  Angle_Front  Angle_Back\n",
       "0          2.50           70          85\n",
       "1          2.55           80          75\n",
       "2          2.56          140          90\n",
       "3          2.56          100          85\n",
       "4          2.56           60          85"
      ]
     },
     "execution_count": 10,
     "metadata": {},
     "output_type": "execute_result"
    }
   ],
   "source": [
    "x = df.drop(columns=['Label'])\n",
    "y = df['Label']\n",
    "x.head()"
   ]
  },
  {
   "cell_type": "code",
   "execution_count": 11,
   "id": "ccb08588-3532-4c84-ba2c-660048d6d56b",
   "metadata": {},
   "outputs": [
    {
     "name": "stdout",
     "output_type": "stream",
     "text": [
      "0    2\n",
      "1    2\n",
      "2    2\n",
      "3    2\n",
      "4    2\n",
      "Name: Label, dtype: int32\n"
     ]
    }
   ],
   "source": [
    "print(y[:5])"
   ]
  },
  {
   "cell_type": "code",
   "execution_count": 12,
   "id": "42322b56-82c4-4d61-b6e6-1855f028f51e",
   "metadata": {},
   "outputs": [],
   "source": [
    "from sklearn.model_selection import train_test_split\n",
    "x_train, x_test, y_train, y_test = train_test_split(x, y, test_size=0.2, shuffle=True, random_state=69)"
   ]
  },
  {
   "cell_type": "code",
   "execution_count": 13,
   "id": "81bf2fbf-626d-490c-b9b0-a5ae0a1f2eda",
   "metadata": {},
   "outputs": [
    {
     "data": {
      "text/plain": [
       "(80, 3)"
      ]
     },
     "execution_count": 13,
     "metadata": {},
     "output_type": "execute_result"
    }
   ],
   "source": [
    "x_train.shape"
   ]
  },
  {
   "cell_type": "code",
   "execution_count": 14,
   "id": "297ad449-458d-49ba-9d17-89a172f67b1a",
   "metadata": {},
   "outputs": [
    {
     "data": {
      "text/plain": [
       "(80,)"
      ]
     },
     "execution_count": 14,
     "metadata": {},
     "output_type": "execute_result"
    }
   ],
   "source": [
    "y_train.shape"
   ]
  },
  {
   "cell_type": "code",
   "execution_count": 15,
   "id": "4277840a-f846-4976-a9e8-dd473640d2c5",
   "metadata": {},
   "outputs": [
    {
     "name": "stdout",
     "output_type": "stream",
     "text": [
      "    Ratio_L_to_W  Angle_Front  Angle_Back\n",
      "36          2.04           60          65\n",
      "[[-0.77047158 -0.75096137 -0.94396376]]\n"
     ]
    }
   ],
   "source": [
    "from sklearn.preprocessing import StandardScaler\n",
    "sc = StandardScaler()\n",
    "print(x_train[:1])\n",
    "x_train = sc.fit_transform(x_train)\n",
    "x_test = sc.transform(x_test)\n",
    "print(x_train[:1])"
   ]
  },
  {
   "cell_type": "code",
   "execution_count": 16,
   "id": "aa474450-a586-4dba-b8fd-74fbbde4f0d8",
   "metadata": {},
   "outputs": [
    {
     "name": "stdout",
     "output_type": "stream",
     "text": [
      "[[1. 0. 0.]\n",
      " [0. 0. 1.]\n",
      " [0. 0. 1.]\n",
      " [1. 0. 0.]\n",
      " [1. 0. 0.]]\n"
     ]
    }
   ],
   "source": [
    "y_train = keras.utils.to_categorical(y_train, num_classes=3)\n",
    "print(y_train[:5])"
   ]
  },
  {
   "cell_type": "code",
   "execution_count": 21,
   "id": "d210149c-21ac-4afb-ac5a-e16a871b7099",
   "metadata": {},
   "outputs": [],
   "source": [
    "from keras.models import Sequential\n",
    "from keras.layers import Dense, Dropout\n",
    "from keras.optimizers import Adam"
   ]
  },
  {
   "cell_type": "code",
   "execution_count": 22,
   "id": "830c6ebb-7075-4019-83d5-f4d27a0b0db1",
   "metadata": {},
   "outputs": [],
   "source": [
    "model= Sequential()\n",
    "model.add(Dense(units=32, activation='relu', input_shape=(3,)))\n",
    "model.add(Dense(units=32, activation='relu'))\n",
    "model.add(Dropout(0.3))\n",
    "model.add(Dense(units=3,activation='softmax'))"
   ]
  },
  {
   "cell_type": "code",
   "execution_count": 23,
   "id": "f744f313-aad5-440f-a287-b01515c90ec7",
   "metadata": {},
   "outputs": [
    {
     "name": "stdout",
     "output_type": "stream",
     "text": [
      "Model: \"sequential_1\"\n",
      "_________________________________________________________________\n",
      " Layer (type)                Output Shape              Param #   \n",
      "=================================================================\n",
      " dense_3 (Dense)             (None, 32)                128       \n",
      "                                                                 \n",
      " dense_4 (Dense)             (None, 32)                1056      \n",
      "                                                                 \n",
      " dropout_1 (Dropout)         (None, 32)                0         \n",
      "                                                                 \n",
      " dense_5 (Dense)             (None, 3)                 99        \n",
      "                                                                 \n",
      "=================================================================\n",
      "Total params: 1,283\n",
      "Trainable params: 1,283\n",
      "Non-trainable params: 0\n",
      "_________________________________________________________________\n"
     ]
    }
   ],
   "source": [
    "learning_rate = 0.0001  \n",
    "optimizer = Adam(learning_rate=learning_rate)\n",
    "model.compile(optimizer=optimizer, loss='categorical_crossentropy', metrics=['accuracy'])\n",
    "model.summary()"
   ]
  },
  {
   "cell_type": "code",
   "execution_count": 24,
   "id": "29e7a228-db0a-4cff-8f6e-25237e8608fb",
   "metadata": {},
   "outputs": [
    {
     "name": "stdout",
     "output_type": "stream",
     "text": [
      "Epoch 1/100\n",
      "3/3 - 1s - loss: 1.1581 - accuracy: 0.2500 - 765ms/epoch - 255ms/step\n",
      "Epoch 2/100\n",
      "3/3 - 0s - loss: 1.1455 - accuracy: 0.2625 - 8ms/epoch - 3ms/step\n",
      "Epoch 3/100\n",
      "3/3 - 0s - loss: 1.1225 - accuracy: 0.3250 - 11ms/epoch - 4ms/step\n",
      "Epoch 4/100\n",
      "3/3 - 0s - loss: 1.1246 - accuracy: 0.3000 - 17ms/epoch - 6ms/step\n",
      "Epoch 5/100\n",
      "3/3 - 0s - loss: 1.1247 - accuracy: 0.3375 - 18ms/epoch - 6ms/step\n",
      "Epoch 6/100\n",
      "3/3 - 0s - loss: 1.1216 - accuracy: 0.2875 - 0s/epoch - 0s/step\n",
      "Epoch 7/100\n",
      "3/3 - 0s - loss: 1.1700 - accuracy: 0.2625 - 0s/epoch - 0s/step\n",
      "Epoch 8/100\n",
      "3/3 - 0s - loss: 1.1296 - accuracy: 0.2875 - 15ms/epoch - 5ms/step\n",
      "Epoch 9/100\n",
      "3/3 - 0s - loss: 1.0899 - accuracy: 0.3625 - 18ms/epoch - 6ms/step\n",
      "Epoch 10/100\n",
      "3/3 - 0s - loss: 1.1163 - accuracy: 0.3375 - 15ms/epoch - 5ms/step\n",
      "Epoch 11/100\n",
      "3/3 - 0s - loss: 1.1268 - accuracy: 0.2875 - 19ms/epoch - 6ms/step\n",
      "Epoch 12/100\n",
      "3/3 - 0s - loss: 1.1293 - accuracy: 0.3000 - 24ms/epoch - 8ms/step\n",
      "Epoch 13/100\n",
      "3/3 - 0s - loss: 1.0995 - accuracy: 0.3125 - 10ms/epoch - 3ms/step\n",
      "Epoch 14/100\n",
      "3/3 - 0s - loss: 1.0933 - accuracy: 0.3500 - 8ms/epoch - 3ms/step\n",
      "Epoch 15/100\n",
      "3/3 - 0s - loss: 1.0545 - accuracy: 0.4125 - 14ms/epoch - 5ms/step\n",
      "Epoch 16/100\n",
      "3/3 - 0s - loss: 1.0935 - accuracy: 0.3000 - 13ms/epoch - 4ms/step\n",
      "Epoch 17/100\n",
      "3/3 - 0s - loss: 1.0956 - accuracy: 0.3125 - 15ms/epoch - 5ms/step\n",
      "Epoch 18/100\n",
      "3/3 - 0s - loss: 1.0991 - accuracy: 0.3375 - 13ms/epoch - 4ms/step\n",
      "Epoch 19/100\n",
      "3/3 - 0s - loss: 1.0688 - accuracy: 0.3875 - 14ms/epoch - 5ms/step\n",
      "Epoch 20/100\n",
      "3/3 - 0s - loss: 1.0976 - accuracy: 0.3250 - 13ms/epoch - 4ms/step\n",
      "Epoch 21/100\n",
      "3/3 - 0s - loss: 1.0499 - accuracy: 0.4625 - 13ms/epoch - 4ms/step\n",
      "Epoch 22/100\n",
      "3/3 - 0s - loss: 1.0726 - accuracy: 0.3750 - 15ms/epoch - 5ms/step\n",
      "Epoch 23/100\n",
      "3/3 - 0s - loss: 1.0723 - accuracy: 0.4375 - 6ms/epoch - 2ms/step\n",
      "Epoch 24/100\n",
      "3/3 - 0s - loss: 1.0222 - accuracy: 0.4500 - 7ms/epoch - 2ms/step\n",
      "Epoch 25/100\n",
      "3/3 - 0s - loss: 1.0874 - accuracy: 0.3750 - 7ms/epoch - 2ms/step\n",
      "Epoch 26/100\n",
      "3/3 - 0s - loss: 1.0221 - accuracy: 0.4625 - 7ms/epoch - 2ms/step\n",
      "Epoch 27/100\n",
      "3/3 - 0s - loss: 1.1007 - accuracy: 0.3500 - 10ms/epoch - 3ms/step\n",
      "Epoch 28/100\n",
      "3/3 - 0s - loss: 1.0303 - accuracy: 0.4250 - 9ms/epoch - 3ms/step\n",
      "Epoch 29/100\n",
      "3/3 - 0s - loss: 1.0414 - accuracy: 0.4250 - 10ms/epoch - 3ms/step\n",
      "Epoch 30/100\n",
      "3/3 - 0s - loss: 1.0562 - accuracy: 0.4000 - 10ms/epoch - 3ms/step\n",
      "Epoch 31/100\n",
      "3/3 - 0s - loss: 1.0307 - accuracy: 0.4375 - 0s/epoch - 0s/step\n",
      "Epoch 32/100\n",
      "3/3 - 0s - loss: 1.0507 - accuracy: 0.4375 - 0s/epoch - 0s/step\n",
      "Epoch 33/100\n",
      "3/3 - 0s - loss: 1.0487 - accuracy: 0.4000 - 0s/epoch - 0s/step\n",
      "Epoch 34/100\n",
      "3/3 - 0s - loss: 1.0271 - accuracy: 0.4500 - 13ms/epoch - 4ms/step\n",
      "Epoch 35/100\n",
      "3/3 - 0s - loss: 1.0499 - accuracy: 0.4500 - 15ms/epoch - 5ms/step\n",
      "Epoch 36/100\n",
      "3/3 - 0s - loss: 1.0490 - accuracy: 0.3500 - 12ms/epoch - 4ms/step\n",
      "Epoch 37/100\n",
      "3/3 - 0s - loss: 1.0102 - accuracy: 0.5000 - 14ms/epoch - 5ms/step\n",
      "Epoch 38/100\n",
      "3/3 - 0s - loss: 1.0325 - accuracy: 0.4125 - 12ms/epoch - 4ms/step\n",
      "Epoch 39/100\n",
      "3/3 - 0s - loss: 0.9866 - accuracy: 0.5750 - 13ms/epoch - 4ms/step\n",
      "Epoch 40/100\n",
      "3/3 - 0s - loss: 1.0176 - accuracy: 0.4750 - 14ms/epoch - 5ms/step\n",
      "Epoch 41/100\n",
      "3/3 - 0s - loss: 1.0180 - accuracy: 0.5375 - 14ms/epoch - 5ms/step\n",
      "Epoch 42/100\n",
      "3/3 - 0s - loss: 1.0178 - accuracy: 0.4375 - 7ms/epoch - 2ms/step\n",
      "Epoch 43/100\n",
      "3/3 - 0s - loss: 0.9848 - accuracy: 0.5000 - 20ms/epoch - 7ms/step\n",
      "Epoch 44/100\n",
      "3/3 - 0s - loss: 1.0114 - accuracy: 0.5250 - 0s/epoch - 0s/step\n",
      "Epoch 45/100\n",
      "3/3 - 0s - loss: 0.9977 - accuracy: 0.5000 - 0s/epoch - 0s/step\n",
      "Epoch 46/100\n",
      "3/3 - 0s - loss: 0.9779 - accuracy: 0.5500 - 0s/epoch - 0s/step\n",
      "Epoch 47/100\n",
      "3/3 - 0s - loss: 0.9857 - accuracy: 0.5875 - 16ms/epoch - 5ms/step\n",
      "Epoch 48/100\n",
      "3/3 - 0s - loss: 0.9619 - accuracy: 0.5875 - 16ms/epoch - 5ms/step\n",
      "Epoch 49/100\n",
      "3/3 - 0s - loss: 0.9945 - accuracy: 0.5250 - 17ms/epoch - 6ms/step\n",
      "Epoch 50/100\n",
      "3/3 - 0s - loss: 0.9645 - accuracy: 0.5250 - 17ms/epoch - 6ms/step\n",
      "Epoch 51/100\n",
      "3/3 - 0s - loss: 0.9641 - accuracy: 0.5500 - 17ms/epoch - 6ms/step\n",
      "Epoch 52/100\n",
      "3/3 - 0s - loss: 0.9962 - accuracy: 0.5125 - 17ms/epoch - 6ms/step\n",
      "Epoch 53/100\n",
      "3/3 - 0s - loss: 0.9631 - accuracy: 0.5625 - 16ms/epoch - 5ms/step\n",
      "Epoch 54/100\n",
      "3/3 - 0s - loss: 0.9741 - accuracy: 0.5250 - 107ms/epoch - 36ms/step\n",
      "Epoch 55/100\n",
      "3/3 - 0s - loss: 0.9638 - accuracy: 0.5750 - 82ms/epoch - 27ms/step\n",
      "Epoch 56/100\n",
      "3/3 - 0s - loss: 0.9859 - accuracy: 0.5500 - 17ms/epoch - 6ms/step\n",
      "Epoch 57/100\n",
      "3/3 - 0s - loss: 0.9961 - accuracy: 0.5750 - 47ms/epoch - 16ms/step\n",
      "Epoch 58/100\n",
      "3/3 - 0s - loss: 0.9502 - accuracy: 0.5375 - 14ms/epoch - 5ms/step\n",
      "Epoch 59/100\n",
      "3/3 - 0s - loss: 0.9653 - accuracy: 0.5750 - 12ms/epoch - 4ms/step\n",
      "Epoch 60/100\n",
      "3/3 - 0s - loss: 0.9537 - accuracy: 0.5875 - 6ms/epoch - 2ms/step\n",
      "Epoch 61/100\n",
      "3/3 - 0s - loss: 0.9447 - accuracy: 0.6250 - 8ms/epoch - 3ms/step\n",
      "Epoch 62/100\n",
      "3/3 - 0s - loss: 0.9349 - accuracy: 0.6375 - 9ms/epoch - 3ms/step\n",
      "Epoch 63/100\n",
      "3/3 - 0s - loss: 0.9366 - accuracy: 0.6875 - 10ms/epoch - 3ms/step\n",
      "Epoch 64/100\n",
      "3/3 - 0s - loss: 0.9553 - accuracy: 0.6000 - 7ms/epoch - 2ms/step\n",
      "Epoch 65/100\n",
      "3/3 - 0s - loss: 0.9640 - accuracy: 0.5250 - 9ms/epoch - 3ms/step\n",
      "Epoch 66/100\n",
      "3/3 - 0s - loss: 0.9429 - accuracy: 0.6750 - 15ms/epoch - 5ms/step\n",
      "Epoch 67/100\n",
      "3/3 - 0s - loss: 0.9584 - accuracy: 0.6125 - 11ms/epoch - 4ms/step\n",
      "Epoch 68/100\n",
      "3/3 - 0s - loss: 0.9543 - accuracy: 0.5875 - 6ms/epoch - 2ms/step\n",
      "Epoch 69/100\n",
      "3/3 - 0s - loss: 0.9386 - accuracy: 0.6750 - 22ms/epoch - 7ms/step\n",
      "Epoch 70/100\n",
      "3/3 - 0s - loss: 0.9327 - accuracy: 0.6625 - 10ms/epoch - 3ms/step\n",
      "Epoch 71/100\n",
      "3/3 - 0s - loss: 0.9094 - accuracy: 0.6875 - 19ms/epoch - 6ms/step\n",
      "Epoch 72/100\n",
      "3/3 - 0s - loss: 0.9237 - accuracy: 0.6875 - 11ms/epoch - 4ms/step\n",
      "Epoch 73/100\n",
      "3/3 - 0s - loss: 0.8810 - accuracy: 0.6875 - 11ms/epoch - 4ms/step\n",
      "Epoch 74/100\n",
      "3/3 - 0s - loss: 0.8825 - accuracy: 0.7000 - 8ms/epoch - 3ms/step\n",
      "Epoch 75/100\n",
      "3/3 - 0s - loss: 0.8966 - accuracy: 0.6250 - 8ms/epoch - 3ms/step\n",
      "Epoch 76/100\n",
      "3/3 - 0s - loss: 0.9261 - accuracy: 0.6375 - 8ms/epoch - 3ms/step\n",
      "Epoch 77/100\n",
      "3/3 - 0s - loss: 0.9060 - accuracy: 0.6875 - 10ms/epoch - 3ms/step\n",
      "Epoch 78/100\n",
      "3/3 - 0s - loss: 0.8920 - accuracy: 0.6625 - 9ms/epoch - 3ms/step\n",
      "Epoch 79/100\n",
      "3/3 - 0s - loss: 0.9049 - accuracy: 0.6000 - 0s/epoch - 0s/step\n",
      "Epoch 80/100\n",
      "3/3 - 0s - loss: 0.8648 - accuracy: 0.7500 - 8ms/epoch - 3ms/step\n",
      "Epoch 81/100\n",
      "3/3 - 0s - loss: 0.9289 - accuracy: 0.6625 - 8ms/epoch - 3ms/step\n",
      "Epoch 82/100\n",
      "3/3 - 0s - loss: 0.8644 - accuracy: 0.7375 - 9ms/epoch - 3ms/step\n",
      "Epoch 83/100\n",
      "3/3 - 0s - loss: 0.8926 - accuracy: 0.6625 - 904us/epoch - 301us/step\n",
      "Epoch 84/100\n",
      "3/3 - 0s - loss: 0.8768 - accuracy: 0.6750 - 10ms/epoch - 3ms/step\n",
      "Epoch 85/100\n",
      "3/3 - 0s - loss: 0.8903 - accuracy: 0.6875 - 9ms/epoch - 3ms/step\n",
      "Epoch 86/100\n",
      "3/3 - 0s - loss: 0.8711 - accuracy: 0.7500 - 10ms/epoch - 3ms/step\n",
      "Epoch 87/100\n",
      "3/3 - 0s - loss: 0.8774 - accuracy: 0.6500 - 8ms/epoch - 3ms/step\n",
      "Epoch 88/100\n",
      "3/3 - 0s - loss: 0.8648 - accuracy: 0.7125 - 8ms/epoch - 3ms/step\n",
      "Epoch 89/100\n",
      "3/3 - 0s - loss: 0.8480 - accuracy: 0.7375 - 7ms/epoch - 2ms/step\n",
      "Epoch 90/100\n",
      "3/3 - 0s - loss: 0.8551 - accuracy: 0.8125 - 0s/epoch - 0s/step\n",
      "Epoch 91/100\n",
      "3/3 - 0s - loss: 0.8539 - accuracy: 0.7375 - 9ms/epoch - 3ms/step\n",
      "Epoch 92/100\n",
      "3/3 - 0s - loss: 0.8596 - accuracy: 0.7625 - 13ms/epoch - 4ms/step\n",
      "Epoch 93/100\n",
      "3/3 - 0s - loss: 0.8661 - accuracy: 0.7125 - 14ms/epoch - 5ms/step\n",
      "Epoch 94/100\n",
      "3/3 - 0s - loss: 0.8696 - accuracy: 0.6750 - 13ms/epoch - 4ms/step\n",
      "Epoch 95/100\n",
      "3/3 - 0s - loss: 0.8319 - accuracy: 0.7625 - 13ms/epoch - 4ms/step\n",
      "Epoch 96/100\n",
      "3/3 - 0s - loss: 0.8185 - accuracy: 0.7875 - 11ms/epoch - 4ms/step\n",
      "Epoch 97/100\n",
      "3/3 - 0s - loss: 0.8487 - accuracy: 0.7250 - 12ms/epoch - 4ms/step\n",
      "Epoch 98/100\n",
      "3/3 - 0s - loss: 0.8275 - accuracy: 0.8000 - 8ms/epoch - 3ms/step\n",
      "Epoch 99/100\n",
      "3/3 - 0s - loss: 0.8282 - accuracy: 0.7625 - 9ms/epoch - 3ms/step\n",
      "Epoch 100/100\n",
      "3/3 - 0s - loss: 0.8331 - accuracy: 0.7250 - 9ms/epoch - 3ms/step\n"
     ]
    }
   ],
   "source": [
    "history=model.fit(x_train, y_train, epochs=100, verbose=2) "
   ]
  },
  {
   "cell_type": "code",
   "execution_count": 25,
   "id": "9bd88c6e-c597-41ea-9677-ea3f2dc89b6d",
   "metadata": {},
   "outputs": [
    {
     "data": {
      "text/plain": [
       "dict_keys(['loss', 'accuracy'])"
      ]
     },
     "execution_count": 25,
     "metadata": {},
     "output_type": "execute_result"
    }
   ],
   "source": [
    "history_dict = history.history\n",
    "history_dict.keys()"
   ]
  },
  {
   "cell_type": "code",
   "execution_count": 26,
   "id": "5942be0a-0348-4fdd-8226-f64b687cb58e",
   "metadata": {},
   "outputs": [
    {
     "data": {
      "image/png": "[encoded data removed]",
      "text/plain": [
       "<Figure size 640x480 with 1 Axes>"
      ]
     },
     "metadata": {},
     "output_type": "display_data"
    }
   ],
   "source": [
    "import matplotlib.pyplot as plt\n",
    "history_dict = history.history\n",
    "loss_values = history_dict['loss']\n",
    "epochs = range(1, 101)\n",
    "plt.plot(epochs, loss_values, 'c',label='Training loss')\n",
    "plt.title('Training loss')\n",
    "plt.xlabel('Epochs')\n",
    "plt.ylabel('Loss')\n",
    "plt.legend()\n",
    "plt.show()"
   ]
  },
  {
   "cell_type": "code",
   "execution_count": 27,
   "id": "d470d788-98ad-4f8f-a0de-a668abe297ca",
   "metadata": {},
   "outputs": [
    {
     "data": {
      "image/png": "[encoded data removed]",
      "text/plain": [
       "<Figure size 640x480 with 1 Axes>"
      ]
     },
     "metadata": {},
     "output_type": "display_data"
    }
   ],
   "source": [
    "plt.clf()\n",
    "acc_values = history_dict['accuracy']\n",
    "plt.plot(epochs, acc_values, 'c', label='Training acc')\n",
    "plt.title('Training accuracy')\n",
    "plt.xlabel('Epochs')\n",
    "plt.ylabel('Loss')\n",
    "plt.legend()\n",
    "plt.show()"
   ]
  },
  {
   "cell_type": "code",
   "execution_count": 29,
   "id": "f6ed177a-6e12-4924-8bcf-cdd6598eb0e7",
   "metadata": {},
   "outputs": [
    {
     "name": "stdout",
     "output_type": "stream",
     "text": [
      "1/1 [==============================] - 0s 131ms/step\n",
      "[[0.08578258 0.79512155 0.11909587]\n",
      " [0.34836578 0.220911   0.43072325]\n",
      " [0.33665168 0.25185835 0.41148993]\n",
      " [0.06816681 0.82126564 0.1105675 ]\n",
      " [0.31830215 0.37645486 0.30524287]]\n"
     ]
    }
   ],
   "source": [
    "prediction= model.predict(x_test)\n",
    "print(prediction[:5])"
   ]
  },
  {
   "cell_type": "code",
   "execution_count": 31,
   "id": "97150d3d-89c4-4fcb-975d-8b6eb337db0a",
   "metadata": {},
   "outputs": [
    {
     "name": "stdout",
     "output_type": "stream",
     "text": [
      "[1 2 2 1 1]\n"
     ]
    }
   ],
   "source": [
    "prediction = np.argmax(prediction, axis=-1)\n",
    "print(prediction[:5])"
   ]
  },
  {
   "cell_type": "code",
   "execution_count": 32,
   "id": "3ab85cdf-6373-4339-bd0c-3da126f8e284",
   "metadata": {},
   "outputs": [
    {
     "name": "stdout",
     "output_type": "stream",
     "text": [
      "72    1\n",
      "31    2\n",
      "13    2\n",
      "83    1\n",
      "33    0\n",
      "Name: Label, dtype: int32\n"
     ]
    }
   ],
   "source": [
    "print(y_test[:5])"
   ]
  },
  {
   "cell_type": "code",
   "execution_count": 34,
   "id": "ac5ff89d-3bb9-46a7-b463-97862d9e955e",
   "metadata": {},
   "outputs": [
    {
     "name": "stdout",
     "output_type": "stream",
     "text": [
      "0.85\n"
     ]
    }
   ],
   "source": [
    "from sklearn.metrics import accuracy_score, confusion_matrix\n",
    "print(accuracy_score(y_test, prediction))"
   ]
  },
  {
   "cell_type": "code",
   "execution_count": 35,
   "id": "57df30e6-4836-49f9-8ae2-2cf5e5101692",
   "metadata": {},
   "outputs": [
    {
     "name": "stdout",
     "output_type": "stream",
     "text": [
      "[[ 1  1  1]\n",
      " [ 0 10  0]\n",
      " [ 1  0  6]]\n"
     ]
    }
   ],
   "source": [
    "cm= confusion_matrix(y_test, prediction)\n",
    "print(cm)"
   ]
  },
  {
   "cell_type": "code",
   "execution_count": 42,
   "id": "46239d38-61ef-43cc-b17d-0fece1cc3ef7",
   "metadata": {},
   "outputs": [
    {
     "data": {
      "text/plain": [
       "Text(50.722222222222214, 0.5, 'actual')"
      ]
     },
     "execution_count": 42,
     "metadata": {},
     "output_type": "execute_result"
    },
    {
     "data": {
      "image/png": "[encoded data removed]",
      "text/plain": [
       "<Figure size 640x480 with 2 Axes>"
      ]
     },
     "metadata": {},
     "output_type": "display_data"
    }
   ],
   "source": [
    "ax = sns.heatmap(cm, annot=True, fmt='d',cmap='Reds',xticklabels=Lable_name, yticklabels=Lable_name)\n",
    "ax.set_title('confution matrix for leaves dataset prediction')\n",
    "ax.set_xlabel('prediction', fontsize=14)\n",
    "ax.set_ylabel('actual', fontsize=14)"
   ]
  },
  {
   "cell_type": "code",
   "execution_count": null,
   "id": "dfa15d2b-f653-4f53-b552-e183f3496eb4",
   "metadata": {},
   "outputs": [],
   "source": []
  }
 ],
 "metadata": {
  "kernelspec": {
   "display_name": "Python 3 (ipykernel)",
   "language": "python",
   "name": "python3"
  },
  "language_info": {
   "codemirror_mode": {
    "name": "ipython",
    "version": 3
   },
   "file_extension": ".py",
   "mimetype": "text/x-python",
   "name": "python",
   "nbconvert_exporter": "python",
   "pygments_lexer": "ipython3",
   "version": "3.10.13"
  }
 },
 "nbformat": 4,
 "nbformat_minor": 5
}
