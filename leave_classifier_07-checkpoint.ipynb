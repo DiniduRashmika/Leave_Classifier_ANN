{
 "cells": [
  {
   "cell_type": "markdown",
   "id": "4e3e8230",
   "metadata": {},
   "source": [
    "# Leave Classifier"
   ]
  },
  {
   "cell_type": "markdown",
   "id": "97bbd697",
   "metadata": {},
   "source": [
    "team cognicrew"
   ]
  },
  {
   "cell_type": "code",
   "execution_count": 1,
   "id": "5c0d4a2e",
   "metadata": {},
   "outputs": [],
   "source": [
    "import pandas as pd\n",
    "import numpy as np\n",
    "import seaborn as sns\n",
    "from tensorflow import keras"
   ]
  },
  {
   "cell_type": "code",
   "execution_count": 2,
   "id": "32beea68",
   "metadata": {},
   "outputs": [
    {
     "data": {
      "text/html": [
       "<div>\n",
       "<style scoped>\n",
       "    .dataframe tbody tr th:only-of-type {\n",
       "        vertical-align: middle;\n",
       "    }\n",
       "\n",
       "    .dataframe tbody tr th {\n",
       "        vertical-align: top;\n",
       "    }\n",
       "\n",
       "    .dataframe thead th {\n",
       "        text-align: right;\n",
       "    }\n",
       "</style>\n",
       "<table border=\"1\" class=\"dataframe\">\n",
       "  <thead>\n",
       "    <tr style=\"text-align: right;\">\n",
       "      <th></th>\n",
       "      <th>Ratio_L_to_W</th>\n",
       "      <th>Angle_Front</th>\n",
       "      <th>Angle_Back</th>\n",
       "      <th>Label</th>\n",
       "    </tr>\n",
       "  </thead>\n",
       "  <tbody>\n",
       "    <tr>\n",
       "      <th>0</th>\n",
       "      <td>2.50</td>\n",
       "      <td>70</td>\n",
       "      <td>85</td>\n",
       "      <td>Welienna</td>\n",
       "    </tr>\n",
       "    <tr>\n",
       "      <th>1</th>\n",
       "      <td>2.55</td>\n",
       "      <td>80</td>\n",
       "      <td>75</td>\n",
       "      <td>Welienna</td>\n",
       "    </tr>\n",
       "    <tr>\n",
       "      <th>2</th>\n",
       "      <td>2.56</td>\n",
       "      <td>140</td>\n",
       "      <td>90</td>\n",
       "      <td>Welienna</td>\n",
       "    </tr>\n",
       "    <tr>\n",
       "      <th>3</th>\n",
       "      <td>2.56</td>\n",
       "      <td>100</td>\n",
       "      <td>85</td>\n",
       "      <td>Welienna</td>\n",
       "    </tr>\n",
       "    <tr>\n",
       "      <th>4</th>\n",
       "      <td>2.56</td>\n",
       "      <td>60</td>\n",
       "      <td>85</td>\n",
       "      <td>Welienna</td>\n",
       "    </tr>\n",
       "  </tbody>\n",
       "</table>\n",
       "</div>"
      ],
      "text/plain": [
       "   Ratio_L_to_W  Angle_Front  Angle_Back     Label\n",
       "0          2.50           70          85  Welienna\n",
       "1          2.55           80          75  Welienna\n",
       "2          2.56          140          90  Welienna\n",
       "3          2.56          100          85  Welienna\n",
       "4          2.56           60          85  Welienna"
      ]
     },
     "execution_count": 2,
     "metadata": {},
     "output_type": "execute_result"
    }
   ],
   "source": [
    "df = pd.read_csv('leave_traning_dataset_01.csv')\n",
    "df.head()"
   ]
  },
  {
   "cell_type": "code",
   "execution_count": 3,
   "id": "8a051dfb",
   "metadata": {},
   "outputs": [
    {
     "data": {
      "text/plain": [
       "Label\n",
       "Welan       44\n",
       "Welienna    43\n",
       "Kaluwara    43\n",
       "Name: count, dtype: int64"
      ]
     },
     "execution_count": 3,
     "metadata": {},
     "output_type": "execute_result"
    }
   ],
   "source": [
    "df['Label'].value_counts()"
   ]
  },
  {
   "cell_type": "code",
   "execution_count": 4,
   "id": "7ae09961",
   "metadata": {},
   "outputs": [
    {
     "name": "stdout",
     "output_type": "stream",
     "text": [
      "<class 'pandas.core.frame.DataFrame'>\n",
      "RangeIndex: 130 entries, 0 to 129\n",
      "Data columns (total 4 columns):\n",
      " #   Column        Non-Null Count  Dtype  \n",
      "---  ------        --------------  -----  \n",
      " 0   Ratio_L_to_W  130 non-null    float64\n",
      " 1   Angle_Front   130 non-null    int64  \n",
      " 2   Angle_Back    130 non-null    int64  \n",
      " 3   Label         130 non-null    object \n",
      "dtypes: float64(1), int64(2), object(1)\n",
      "memory usage: 4.2+ KB\n"
     ]
    }
   ],
   "source": [
    "df.info()"
   ]
  },
  {
   "cell_type": "code",
   "execution_count": 5,
   "id": "46f123e1",
   "metadata": {},
   "outputs": [
    {
     "data": {
      "text/html": [
       "<div>\n",
       "<style scoped>\n",
       "    .dataframe tbody tr th:only-of-type {\n",
       "        vertical-align: middle;\n",
       "    }\n",
       "\n",
       "    .dataframe tbody tr th {\n",
       "        vertical-align: top;\n",
       "    }\n",
       "\n",
       "    .dataframe thead th {\n",
       "        text-align: right;\n",
       "    }\n",
       "</style>\n",
       "<table border=\"1\" class=\"dataframe\">\n",
       "  <thead>\n",
       "    <tr style=\"text-align: right;\">\n",
       "      <th></th>\n",
       "      <th>Ratio_L_to_W</th>\n",
       "      <th>Angle_Front</th>\n",
       "      <th>Angle_Back</th>\n",
       "      <th>Label</th>\n",
       "    </tr>\n",
       "  </thead>\n",
       "  <tbody>\n",
       "    <tr>\n",
       "      <th>0</th>\n",
       "      <td>False</td>\n",
       "      <td>False</td>\n",
       "      <td>False</td>\n",
       "      <td>False</td>\n",
       "    </tr>\n",
       "    <tr>\n",
       "      <th>1</th>\n",
       "      <td>False</td>\n",
       "      <td>False</td>\n",
       "      <td>False</td>\n",
       "      <td>False</td>\n",
       "    </tr>\n",
       "    <tr>\n",
       "      <th>2</th>\n",
       "      <td>False</td>\n",
       "      <td>False</td>\n",
       "      <td>False</td>\n",
       "      <td>False</td>\n",
       "    </tr>\n",
       "    <tr>\n",
       "      <th>3</th>\n",
       "      <td>False</td>\n",
       "      <td>False</td>\n",
       "      <td>False</td>\n",
       "      <td>False</td>\n",
       "    </tr>\n",
       "    <tr>\n",
       "      <th>4</th>\n",
       "      <td>False</td>\n",
       "      <td>False</td>\n",
       "      <td>False</td>\n",
       "      <td>False</td>\n",
       "    </tr>\n",
       "    <tr>\n",
       "      <th>...</th>\n",
       "      <td>...</td>\n",
       "      <td>...</td>\n",
       "      <td>...</td>\n",
       "      <td>...</td>\n",
       "    </tr>\n",
       "    <tr>\n",
       "      <th>125</th>\n",
       "      <td>False</td>\n",
       "      <td>False</td>\n",
       "      <td>False</td>\n",
       "      <td>False</td>\n",
       "    </tr>\n",
       "    <tr>\n",
       "      <th>126</th>\n",
       "      <td>False</td>\n",
       "      <td>False</td>\n",
       "      <td>False</td>\n",
       "      <td>False</td>\n",
       "    </tr>\n",
       "    <tr>\n",
       "      <th>127</th>\n",
       "      <td>False</td>\n",
       "      <td>False</td>\n",
       "      <td>False</td>\n",
       "      <td>False</td>\n",
       "    </tr>\n",
       "    <tr>\n",
       "      <th>128</th>\n",
       "      <td>False</td>\n",
       "      <td>False</td>\n",
       "      <td>False</td>\n",
       "      <td>False</td>\n",
       "    </tr>\n",
       "    <tr>\n",
       "      <th>129</th>\n",
       "      <td>False</td>\n",
       "      <td>False</td>\n",
       "      <td>False</td>\n",
       "      <td>False</td>\n",
       "    </tr>\n",
       "  </tbody>\n",
       "</table>\n",
       "<p>130 rows × 4 columns</p>\n",
       "</div>"
      ],
      "text/plain": [
       "     Ratio_L_to_W  Angle_Front  Angle_Back  Label\n",
       "0           False        False       False  False\n",
       "1           False        False       False  False\n",
       "2           False        False       False  False\n",
       "3           False        False       False  False\n",
       "4           False        False       False  False\n",
       "..            ...          ...         ...    ...\n",
       "125         False        False       False  False\n",
       "126         False        False       False  False\n",
       "127         False        False       False  False\n",
       "128         False        False       False  False\n",
       "129         False        False       False  False\n",
       "\n",
       "[130 rows x 4 columns]"
      ]
     },
     "execution_count": 5,
     "metadata": {},
     "output_type": "execute_result"
    }
   ],
   "source": [
    "df.isnull()"
   ]
  },
  {
   "cell_type": "code",
   "execution_count": 6,
   "id": "df028c54",
   "metadata": {},
   "outputs": [
    {
     "data": {
      "text/plain": [
       "Ratio_L_to_W    0\n",
       "Angle_Front     0\n",
       "Angle_Back      0\n",
       "Label           0\n",
       "dtype: int64"
      ]
     },
     "execution_count": 6,
     "metadata": {},
     "output_type": "execute_result"
    }
   ],
   "source": [
    "df.isnull().sum()"
   ]
  },
  {
   "cell_type": "code",
   "execution_count": 7,
   "id": "54a707f4",
   "metadata": {},
   "outputs": [
    {
     "data": {
      "text/html": [
       "<div>\n",
       "<style scoped>\n",
       "    .dataframe tbody tr th:only-of-type {\n",
       "        vertical-align: middle;\n",
       "    }\n",
       "\n",
       "    .dataframe tbody tr th {\n",
       "        vertical-align: top;\n",
       "    }\n",
       "\n",
       "    .dataframe thead th {\n",
       "        text-align: right;\n",
       "    }\n",
       "</style>\n",
       "<table border=\"1\" class=\"dataframe\">\n",
       "  <thead>\n",
       "    <tr style=\"text-align: right;\">\n",
       "      <th></th>\n",
       "      <th>Ratio_L_to_W</th>\n",
       "      <th>Angle_Front</th>\n",
       "      <th>Angle_Back</th>\n",
       "      <th>Label</th>\n",
       "    </tr>\n",
       "  </thead>\n",
       "  <tbody>\n",
       "    <tr>\n",
       "      <th>0</th>\n",
       "      <td>2.50</td>\n",
       "      <td>70</td>\n",
       "      <td>85</td>\n",
       "      <td>2</td>\n",
       "    </tr>\n",
       "    <tr>\n",
       "      <th>1</th>\n",
       "      <td>2.55</td>\n",
       "      <td>80</td>\n",
       "      <td>75</td>\n",
       "      <td>2</td>\n",
       "    </tr>\n",
       "    <tr>\n",
       "      <th>2</th>\n",
       "      <td>2.56</td>\n",
       "      <td>140</td>\n",
       "      <td>90</td>\n",
       "      <td>2</td>\n",
       "    </tr>\n",
       "    <tr>\n",
       "      <th>3</th>\n",
       "      <td>2.56</td>\n",
       "      <td>100</td>\n",
       "      <td>85</td>\n",
       "      <td>2</td>\n",
       "    </tr>\n",
       "    <tr>\n",
       "      <th>4</th>\n",
       "      <td>2.56</td>\n",
       "      <td>60</td>\n",
       "      <td>85</td>\n",
       "      <td>2</td>\n",
       "    </tr>\n",
       "  </tbody>\n",
       "</table>\n",
       "</div>"
      ],
      "text/plain": [
       "   Ratio_L_to_W  Angle_Front  Angle_Back  Label\n",
       "0          2.50           70          85      2\n",
       "1          2.55           80          75      2\n",
       "2          2.56          140          90      2\n",
       "3          2.56          100          85      2\n",
       "4          2.56           60          85      2"
      ]
     },
     "execution_count": 7,
     "metadata": {},
     "output_type": "execute_result"
    }
   ],
   "source": [
    "from sklearn.preprocessing import LabelEncoder\n",
    "le = LabelEncoder()\n",
    "df['Label'] = le.fit_transform(df['Label'])\n",
    "df.head()"
   ]
  },
  {
   "cell_type": "code",
   "execution_count": 8,
   "id": "e9e92fc1",
   "metadata": {},
   "outputs": [
    {
     "name": "stdout",
     "output_type": "stream",
     "text": [
      "['Kaluwara' 'Welan' 'Welienna']\n"
     ]
    }
   ],
   "source": [
    "Lable_name=le.classes_\n",
    "print(Lable_name)"
   ]
  },
  {
   "cell_type": "code",
   "execution_count": 9,
   "id": "a2f4bbbe",
   "metadata": {},
   "outputs": [
    {
     "data": {
      "text/html": [
       "<div>\n",
       "<style scoped>\n",
       "    .dataframe tbody tr th:only-of-type {\n",
       "        vertical-align: middle;\n",
       "    }\n",
       "\n",
       "    .dataframe tbody tr th {\n",
       "        vertical-align: top;\n",
       "    }\n",
       "\n",
       "    .dataframe thead th {\n",
       "        text-align: right;\n",
       "    }\n",
       "</style>\n",
       "<table border=\"1\" class=\"dataframe\">\n",
       "  <thead>\n",
       "    <tr style=\"text-align: right;\">\n",
       "      <th></th>\n",
       "      <th>Ratio_L_to_W</th>\n",
       "      <th>Angle_Front</th>\n",
       "      <th>Angle_Back</th>\n",
       "    </tr>\n",
       "  </thead>\n",
       "  <tbody>\n",
       "    <tr>\n",
       "      <th>0</th>\n",
       "      <td>2.50</td>\n",
       "      <td>70</td>\n",
       "      <td>85</td>\n",
       "    </tr>\n",
       "    <tr>\n",
       "      <th>1</th>\n",
       "      <td>2.55</td>\n",
       "      <td>80</td>\n",
       "      <td>75</td>\n",
       "    </tr>\n",
       "    <tr>\n",
       "      <th>2</th>\n",
       "      <td>2.56</td>\n",
       "      <td>140</td>\n",
       "      <td>90</td>\n",
       "    </tr>\n",
       "    <tr>\n",
       "      <th>3</th>\n",
       "      <td>2.56</td>\n",
       "      <td>100</td>\n",
       "      <td>85</td>\n",
       "    </tr>\n",
       "    <tr>\n",
       "      <th>4</th>\n",
       "      <td>2.56</td>\n",
       "      <td>60</td>\n",
       "      <td>85</td>\n",
       "    </tr>\n",
       "  </tbody>\n",
       "</table>\n",
       "</div>"
      ],
      "text/plain": [
       "   Ratio_L_to_W  Angle_Front  Angle_Back\n",
       "0          2.50           70          85\n",
       "1          2.55           80          75\n",
       "2          2.56          140          90\n",
       "3          2.56          100          85\n",
       "4          2.56           60          85"
      ]
     },
     "execution_count": 9,
     "metadata": {},
     "output_type": "execute_result"
    }
   ],
   "source": [
    "x = df.drop(columns=['Label'])\n",
    "y = df['Label']\n",
    "x.head()"
   ]
  },
  {
   "cell_type": "code",
   "execution_count": 10,
   "id": "ccb08588-3532-4c84-ba2c-660048d6d56b",
   "metadata": {},
   "outputs": [
    {
     "name": "stdout",
     "output_type": "stream",
     "text": [
      "0    2\n",
      "1    2\n",
      "2    2\n",
      "3    2\n",
      "4    2\n",
      "Name: Label, dtype: int32\n"
     ]
    }
   ],
   "source": [
    "print(y[:5])"
   ]
  },
  {
   "cell_type": "code",
   "execution_count": 33,
   "id": "42322b56-82c4-4d61-b6e6-1855f028f51e",
   "metadata": {},
   "outputs": [],
   "source": [
    "from sklearn.model_selection import train_test_split\n",
    "x_train, x_test, y_train, y_test = train_test_split(x, y, test_size=0.2, shuffle=True,random_state=75)"
   ]
  },
  {
   "cell_type": "code",
   "execution_count": 34,
   "id": "81bf2fbf-626d-490c-b9b0-a5ae0a1f2eda",
   "metadata": {},
   "outputs": [
    {
     "data": {
      "text/plain": [
       "(104, 3)"
      ]
     },
     "execution_count": 34,
     "metadata": {},
     "output_type": "execute_result"
    }
   ],
   "source": [
    "x_train.shape"
   ]
  },
  {
   "cell_type": "code",
   "execution_count": 35,
   "id": "297ad449-458d-49ba-9d17-89a172f67b1a",
   "metadata": {},
   "outputs": [
    {
     "data": {
      "text/plain": [
       "(104,)"
      ]
     },
     "execution_count": 35,
     "metadata": {},
     "output_type": "execute_result"
    }
   ],
   "source": [
    "y_train.shape"
   ]
  },
  {
   "cell_type": "code",
   "execution_count": 36,
   "id": "4277840a-f846-4976-a9e8-dd473640d2c5",
   "metadata": {},
   "outputs": [
    {
     "name": "stdout",
     "output_type": "stream",
     "text": [
      "    Ratio_L_to_W  Angle_Front  Angle_Back\n",
      "50          2.35           40          40\n",
      "[[ 0.12050407 -1.95445751 -2.14473818]]\n"
     ]
    }
   ],
   "source": [
    "from sklearn.preprocessing import StandardScaler\n",
    "sc = StandardScaler()\n",
    "print(x_train[:1])\n",
    "x_train = sc.fit_transform(x_train)\n",
    "x_test = sc.transform(x_test)\n",
    "print(x_train[:1])"
   ]
  },
  {
   "cell_type": "code",
   "execution_count": 37,
   "id": "aa474450-a586-4dba-b8fd-74fbbde4f0d8",
   "metadata": {},
   "outputs": [
    {
     "name": "stdout",
     "output_type": "stream",
     "text": [
      "[[1. 0. 0.]\n",
      " [0. 0. 1.]\n",
      " [0. 1. 0.]\n",
      " [0. 1. 0.]\n",
      " [1. 0. 0.]]\n"
     ]
    }
   ],
   "source": [
    "y_train = keras.utils.to_categorical(y_train, num_classes=3)\n",
    "print(y_train[:5])"
   ]
  },
  {
   "cell_type": "code",
   "execution_count": 38,
   "id": "d210149c-21ac-4afb-ac5a-e16a871b7099",
   "metadata": {},
   "outputs": [],
   "source": [
    "from keras.models import Sequential\n",
    "from keras.layers import Dense, Dropout\n",
    "from keras.optimizers import Adam"
   ]
  },
  {
   "cell_type": "code",
   "execution_count": 39,
   "id": "830c6ebb-7075-4019-83d5-f4d27a0b0db1",
   "metadata": {},
   "outputs": [],
   "source": [
    "model= Sequential()\n",
    "model.add(Dense(units=512, activation='relu', input_shape=(3,)))\n",
    "model.add(Dense(units=128, activation='relu'))\n",
    "model.add(Dropout(0.5))\n",
    "model.add(Dense(units=3,activation='softmax'))"
   ]
  },
  {
   "cell_type": "code",
   "execution_count": 40,
   "id": "f744f313-aad5-440f-a287-b01515c90ec7",
   "metadata": {},
   "outputs": [
    {
     "name": "stdout",
     "output_type": "stream",
     "text": [
      "Model: \"sequential_1\"\n",
      "_________________________________________________________________\n",
      " Layer (type)                Output Shape              Param #   \n",
      "=================================================================\n",
      " dense_3 (Dense)             (None, 512)               2048      \n",
      "                                                                 \n",
      " dense_4 (Dense)             (None, 128)               65664     \n",
      "                                                                 \n",
      " dropout_1 (Dropout)         (None, 128)               0         \n",
      "                                                                 \n",
      " dense_5 (Dense)             (None, 3)                 387       \n",
      "                                                                 \n",
      "=================================================================\n",
      "Total params: 68,099\n",
      "Trainable params: 68,099\n",
      "Non-trainable params: 0\n",
      "_________________________________________________________________\n"
     ]
    }
   ],
   "source": [
    "learning_rate = 0.0001  \n",
    "optimizer = Adam(learning_rate=learning_rate)\n",
    "model.compile(optimizer=optimizer, loss='categorical_crossentropy', metrics=['accuracy'])\n",
    "model.summary()"
   ]
  },
  {
   "cell_type": "code",
   "execution_count": 41,
   "id": "29e7a228-db0a-4cff-8f6e-25237e8608fb",
   "metadata": {},
   "outputs": [
    {
     "name": "stdout",
     "output_type": "stream",
     "text": [
      "Epoch 1/100\n",
      "4/4 - 1s - loss: 1.0892 - accuracy: 0.3654 - 709ms/epoch - 177ms/step\n",
      "Epoch 2/100\n",
      "4/4 - 0s - loss: 1.0648 - accuracy: 0.5288 - 22ms/epoch - 5ms/step\n",
      "Epoch 3/100\n",
      "4/4 - 0s - loss: 1.0321 - accuracy: 0.5769 - 1ms/epoch - 258us/step\n",
      "Epoch 4/100\n",
      "4/4 - 0s - loss: 0.9985 - accuracy: 0.6250 - 16ms/epoch - 4ms/step\n",
      "Epoch 5/100\n",
      "4/4 - 0s - loss: 0.9774 - accuracy: 0.7019 - 18ms/epoch - 4ms/step\n",
      "Epoch 6/100\n",
      "4/4 - 0s - loss: 0.9539 - accuracy: 0.7596 - 18ms/epoch - 4ms/step\n",
      "Epoch 7/100\n",
      "4/4 - 0s - loss: 0.9405 - accuracy: 0.7308 - 24ms/epoch - 6ms/step\n",
      "Epoch 8/100\n",
      "4/4 - 0s - loss: 0.9177 - accuracy: 0.7500 - 16ms/epoch - 4ms/step\n",
      "Epoch 9/100\n",
      "4/4 - 0s - loss: 0.8910 - accuracy: 0.7500 - 17ms/epoch - 4ms/step\n",
      "Epoch 10/100\n",
      "4/4 - 0s - loss: 0.8684 - accuracy: 0.7212 - 37ms/epoch - 9ms/step\n",
      "Epoch 11/100\n",
      "4/4 - 0s - loss: 0.8614 - accuracy: 0.7212 - 17ms/epoch - 4ms/step\n",
      "Epoch 12/100\n",
      "4/4 - 0s - loss: 0.8399 - accuracy: 0.7692 - 32ms/epoch - 8ms/step\n",
      "Epoch 13/100\n",
      "4/4 - 0s - loss: 0.8004 - accuracy: 0.7981 - 19ms/epoch - 5ms/step\n",
      "Epoch 14/100\n",
      "4/4 - 0s - loss: 0.7946 - accuracy: 0.8462 - 16ms/epoch - 4ms/step\n",
      "Epoch 15/100\n",
      "4/4 - 0s - loss: 0.7516 - accuracy: 0.8077 - 95ms/epoch - 24ms/step\n",
      "Epoch 16/100\n",
      "4/4 - 0s - loss: 0.7437 - accuracy: 0.8077 - 33ms/epoch - 8ms/step\n",
      "Epoch 17/100\n",
      "4/4 - 0s - loss: 0.7210 - accuracy: 0.8269 - 19ms/epoch - 5ms/step\n",
      "Epoch 18/100\n",
      "4/4 - 0s - loss: 0.7142 - accuracy: 0.8462 - 17ms/epoch - 4ms/step\n",
      "Epoch 19/100\n",
      "4/4 - 0s - loss: 0.7058 - accuracy: 0.8558 - 18ms/epoch - 4ms/step\n",
      "Epoch 20/100\n",
      "4/4 - 0s - loss: 0.6723 - accuracy: 0.8462 - 19ms/epoch - 5ms/step\n",
      "Epoch 21/100\n",
      "4/4 - 0s - loss: 0.6675 - accuracy: 0.8846 - 17ms/epoch - 4ms/step\n",
      "Epoch 22/100\n",
      "4/4 - 0s - loss: 0.6602 - accuracy: 0.8654 - 15ms/epoch - 4ms/step\n",
      "Epoch 23/100\n",
      "4/4 - 0s - loss: 0.6412 - accuracy: 0.8462 - 21ms/epoch - 5ms/step\n",
      "Epoch 24/100\n",
      "4/4 - 0s - loss: 0.6252 - accuracy: 0.8462 - 18ms/epoch - 4ms/step\n",
      "Epoch 25/100\n",
      "4/4 - 0s - loss: 0.6080 - accuracy: 0.8654 - 19ms/epoch - 5ms/step\n",
      "Epoch 26/100\n",
      "4/4 - 0s - loss: 0.6123 - accuracy: 0.8846 - 27ms/epoch - 7ms/step\n",
      "Epoch 27/100\n",
      "4/4 - 0s - loss: 0.5925 - accuracy: 0.8558 - 20ms/epoch - 5ms/step\n",
      "Epoch 28/100\n",
      "4/4 - 0s - loss: 0.5785 - accuracy: 0.8750 - 19ms/epoch - 5ms/step\n",
      "Epoch 29/100\n",
      "4/4 - 0s - loss: 0.5635 - accuracy: 0.8750 - 7ms/epoch - 2ms/step\n",
      "Epoch 30/100\n",
      "4/4 - 0s - loss: 0.5441 - accuracy: 0.8942 - 17ms/epoch - 4ms/step\n",
      "Epoch 31/100\n",
      "4/4 - 0s - loss: 0.5336 - accuracy: 0.8846 - 18ms/epoch - 5ms/step\n",
      "Epoch 32/100\n",
      "4/4 - 0s - loss: 0.5062 - accuracy: 0.8558 - 29ms/epoch - 7ms/step\n",
      "Epoch 33/100\n",
      "4/4 - 0s - loss: 0.5146 - accuracy: 0.8942 - 18ms/epoch - 4ms/step\n",
      "Epoch 34/100\n",
      "4/4 - 0s - loss: 0.4980 - accuracy: 0.9038 - 18ms/epoch - 5ms/step\n",
      "Epoch 35/100\n",
      "4/4 - 0s - loss: 0.4868 - accuracy: 0.9327 - 19ms/epoch - 5ms/step\n",
      "Epoch 36/100\n",
      "4/4 - 0s - loss: 0.4760 - accuracy: 0.9231 - 19ms/epoch - 5ms/step\n",
      "Epoch 37/100\n",
      "4/4 - 0s - loss: 0.4745 - accuracy: 0.8654 - 18ms/epoch - 4ms/step\n",
      "Epoch 38/100\n",
      "4/4 - 0s - loss: 0.4536 - accuracy: 0.9135 - 16ms/epoch - 4ms/step\n",
      "Epoch 39/100\n",
      "4/4 - 0s - loss: 0.4481 - accuracy: 0.8942 - 9ms/epoch - 2ms/step\n",
      "Epoch 40/100\n",
      "4/4 - 0s - loss: 0.4563 - accuracy: 0.8942 - 19ms/epoch - 5ms/step\n",
      "Epoch 41/100\n",
      "4/4 - 0s - loss: 0.4262 - accuracy: 0.9038 - 18ms/epoch - 4ms/step\n",
      "Epoch 42/100\n",
      "4/4 - 0s - loss: 0.4260 - accuracy: 0.9135 - 11ms/epoch - 3ms/step\n",
      "Epoch 43/100\n",
      "4/4 - 0s - loss: 0.4199 - accuracy: 0.9135 - 24ms/epoch - 6ms/step\n",
      "Epoch 44/100\n",
      "4/4 - 0s - loss: 0.4134 - accuracy: 0.9038 - 13ms/epoch - 3ms/step\n",
      "Epoch 45/100\n",
      "4/4 - 0s - loss: 0.4208 - accuracy: 0.9231 - 23ms/epoch - 6ms/step\n",
      "Epoch 46/100\n",
      "4/4 - 0s - loss: 0.3991 - accuracy: 0.9423 - 17ms/epoch - 4ms/step\n",
      "Epoch 47/100\n",
      "4/4 - 0s - loss: 0.3959 - accuracy: 0.9231 - 26ms/epoch - 7ms/step\n",
      "Epoch 48/100\n",
      "4/4 - 0s - loss: 0.3602 - accuracy: 0.9135 - 19ms/epoch - 5ms/step\n",
      "Epoch 49/100\n",
      "4/4 - 0s - loss: 0.3736 - accuracy: 0.9327 - 17ms/epoch - 4ms/step\n",
      "Epoch 50/100\n",
      "4/4 - 0s - loss: 0.3549 - accuracy: 0.9231 - 22ms/epoch - 6ms/step\n",
      "Epoch 51/100\n",
      "4/4 - 0s - loss: 0.3591 - accuracy: 0.9231 - 7ms/epoch - 2ms/step\n",
      "Epoch 52/100\n",
      "4/4 - 0s - loss: 0.3463 - accuracy: 0.9231 - 19ms/epoch - 5ms/step\n",
      "Epoch 53/100\n",
      "4/4 - 0s - loss: 0.3473 - accuracy: 0.9038 - 12ms/epoch - 3ms/step\n",
      "Epoch 54/100\n",
      "4/4 - 0s - loss: 0.3496 - accuracy: 0.9231 - 16ms/epoch - 4ms/step\n",
      "Epoch 55/100\n",
      "4/4 - 0s - loss: 0.3404 - accuracy: 0.9327 - 128ms/epoch - 32ms/step\n",
      "Epoch 56/100\n",
      "4/4 - 0s - loss: 0.3418 - accuracy: 0.9519 - 29ms/epoch - 7ms/step\n",
      "Epoch 57/100\n",
      "4/4 - 0s - loss: 0.3336 - accuracy: 0.9135 - 16ms/epoch - 4ms/step\n",
      "Epoch 58/100\n",
      "4/4 - 0s - loss: 0.3198 - accuracy: 0.9231 - 16ms/epoch - 4ms/step\n",
      "Epoch 59/100\n",
      "4/4 - 0s - loss: 0.3132 - accuracy: 0.9327 - 18ms/epoch - 4ms/step\n",
      "Epoch 60/100\n",
      "4/4 - 0s - loss: 0.3061 - accuracy: 0.9327 - 23ms/epoch - 6ms/step\n",
      "Epoch 61/100\n",
      "4/4 - 0s - loss: 0.2948 - accuracy: 0.9423 - 16ms/epoch - 4ms/step\n",
      "Epoch 62/100\n",
      "4/4 - 0s - loss: 0.2912 - accuracy: 0.9231 - 18ms/epoch - 5ms/step\n",
      "Epoch 63/100\n",
      "4/4 - 0s - loss: 0.2959 - accuracy: 0.9327 - 17ms/epoch - 4ms/step\n",
      "Epoch 64/100\n",
      "4/4 - 0s - loss: 0.3060 - accuracy: 0.9327 - 16ms/epoch - 4ms/step\n",
      "Epoch 65/100\n",
      "4/4 - 0s - loss: 0.2906 - accuracy: 0.9327 - 18ms/epoch - 4ms/step\n",
      "Epoch 66/100\n",
      "4/4 - 0s - loss: 0.2898 - accuracy: 0.9327 - 7ms/epoch - 2ms/step\n",
      "Epoch 67/100\n",
      "4/4 - 0s - loss: 0.2785 - accuracy: 0.9327 - 15ms/epoch - 4ms/step\n",
      "Epoch 68/100\n",
      "4/4 - 0s - loss: 0.2858 - accuracy: 0.9327 - 17ms/epoch - 4ms/step\n",
      "Epoch 69/100\n",
      "4/4 - 0s - loss: 0.2664 - accuracy: 0.9519 - 17ms/epoch - 4ms/step\n",
      "Epoch 70/100\n",
      "4/4 - 0s - loss: 0.2562 - accuracy: 0.9519 - 17ms/epoch - 4ms/step\n",
      "Epoch 71/100\n",
      "4/4 - 0s - loss: 0.2498 - accuracy: 0.9519 - 16ms/epoch - 4ms/step\n",
      "Epoch 72/100\n",
      "4/4 - 0s - loss: 0.2597 - accuracy: 0.9423 - 16ms/epoch - 4ms/step\n",
      "Epoch 73/100\n",
      "4/4 - 0s - loss: 0.2574 - accuracy: 0.9231 - 16ms/epoch - 4ms/step\n",
      "Epoch 74/100\n",
      "4/4 - 0s - loss: 0.2506 - accuracy: 0.9519 - 18ms/epoch - 5ms/step\n",
      "Epoch 75/100\n",
      "4/4 - 0s - loss: 0.2559 - accuracy: 0.9231 - 17ms/epoch - 4ms/step\n",
      "Epoch 76/100\n",
      "4/4 - 0s - loss: 0.2508 - accuracy: 0.9327 - 22ms/epoch - 6ms/step\n",
      "Epoch 77/100\n",
      "4/4 - 0s - loss: 0.2258 - accuracy: 0.9519 - 17ms/epoch - 4ms/step\n",
      "Epoch 78/100\n",
      "4/4 - 0s - loss: 0.2520 - accuracy: 0.9423 - 17ms/epoch - 4ms/step\n",
      "Epoch 79/100\n",
      "4/4 - 0s - loss: 0.2339 - accuracy: 0.9423 - 12ms/epoch - 3ms/step\n",
      "Epoch 80/100\n",
      "4/4 - 0s - loss: 0.2344 - accuracy: 0.9519 - 16ms/epoch - 4ms/step\n",
      "Epoch 81/100\n",
      "4/4 - 0s - loss: 0.2307 - accuracy: 0.9423 - 16ms/epoch - 4ms/step\n",
      "Epoch 82/100\n",
      "4/4 - 0s - loss: 0.2240 - accuracy: 0.9519 - 23ms/epoch - 6ms/step\n",
      "Epoch 83/100\n",
      "4/4 - 0s - loss: 0.2299 - accuracy: 0.9423 - 15ms/epoch - 4ms/step\n",
      "Epoch 84/100\n",
      "4/4 - 0s - loss: 0.2214 - accuracy: 0.9231 - 15ms/epoch - 4ms/step\n",
      "Epoch 85/100\n",
      "4/4 - 0s - loss: 0.2175 - accuracy: 0.9423 - 17ms/epoch - 4ms/step\n",
      "Epoch 86/100\n",
      "4/4 - 0s - loss: 0.2093 - accuracy: 0.9423 - 15ms/epoch - 4ms/step\n",
      "Epoch 87/100\n",
      "4/4 - 0s - loss: 0.2043 - accuracy: 0.9519 - 5ms/epoch - 1ms/step\n",
      "Epoch 88/100\n",
      "4/4 - 0s - loss: 0.2232 - accuracy: 0.9519 - 16ms/epoch - 4ms/step\n",
      "Epoch 89/100\n",
      "4/4 - 0s - loss: 0.2007 - accuracy: 0.9712 - 13ms/epoch - 3ms/step\n",
      "Epoch 90/100\n",
      "4/4 - 0s - loss: 0.2225 - accuracy: 0.9423 - 16ms/epoch - 4ms/step\n",
      "Epoch 91/100\n",
      "4/4 - 0s - loss: 0.2014 - accuracy: 0.9423 - 8ms/epoch - 2ms/step\n",
      "Epoch 92/100\n",
      "4/4 - 0s - loss: 0.1940 - accuracy: 0.9423 - 22ms/epoch - 5ms/step\n",
      "Epoch 93/100\n",
      "4/4 - 0s - loss: 0.1907 - accuracy: 0.9519 - 15ms/epoch - 4ms/step\n",
      "Epoch 94/100\n",
      "4/4 - 0s - loss: 0.2219 - accuracy: 0.9327 - 16ms/epoch - 4ms/step\n",
      "Epoch 95/100\n",
      "4/4 - 0s - loss: 0.1885 - accuracy: 0.9615 - 16ms/epoch - 4ms/step\n",
      "Epoch 96/100\n",
      "4/4 - 0s - loss: 0.2117 - accuracy: 0.9615 - 12ms/epoch - 3ms/step\n",
      "Epoch 97/100\n",
      "4/4 - 0s - loss: 0.1903 - accuracy: 0.9519 - 22ms/epoch - 5ms/step\n",
      "Epoch 98/100\n",
      "4/4 - 0s - loss: 0.1934 - accuracy: 0.9519 - 15ms/epoch - 4ms/step\n",
      "Epoch 99/100\n",
      "4/4 - 0s - loss: 0.1853 - accuracy: 0.9423 - 17ms/epoch - 4ms/step\n",
      "Epoch 100/100\n",
      "4/4 - 0s - loss: 0.1845 - accuracy: 0.9615 - 13ms/epoch - 3ms/step\n"
     ]
    }
   ],
   "source": [
    "history=model.fit(x_train, y_train, epochs=100, verbose=2) "
   ]
  },
  {
   "cell_type": "code",
   "execution_count": 42,
   "id": "9bd88c6e-c597-41ea-9677-ea3f2dc89b6d",
   "metadata": {},
   "outputs": [
    {
     "data": {
      "text/plain": [
       "dict_keys(['loss', 'accuracy'])"
      ]
     },
     "execution_count": 42,
     "metadata": {},
     "output_type": "execute_result"
    }
   ],
   "source": [
    "history_dict = history.history\n",
    "history_dict.keys()"
   ]
  },
  {
   "cell_type": "code",
   "execution_count": 43,
   "id": "5942be0a-0348-4fdd-8226-f64b687cb58e",
   "metadata": {},
   "outputs": [
    {
     "data": {
      "image/png": "[encoded data removed]",
      "text/plain": [
       "<Figure size 640x480 with 1 Axes>"
      ]
     },
     "metadata": {},
     "output_type": "display_data"
    }
   ],
   "source": [
    "import matplotlib.pyplot as plt\n",
    "history_dict = history.history\n",
    "loss_values = history_dict['loss']\n",
    "epochs = range(1, 101)\n",
    "plt.plot(epochs, loss_values, 'c',label='Training loss')\n",
    "plt.title('Training loss')\n",
    "plt.xlabel('Epochs')\n",
    "plt.ylabel('Loss')\n",
    "plt.legend()\n",
    "plt.show()"
   ]
  },
  {
   "cell_type": "code",
   "execution_count": 44,
   "id": "d470d788-98ad-4f8f-a0de-a668abe297ca",
   "metadata": {},
   "outputs": [
    {
     "data": {
      "image/png": "[encoded data removed]",
      "text/plain": [
       "<Figure size 640x480 with 1 Axes>"
      ]
     },
     "metadata": {},
     "output_type": "display_data"
    }
   ],
   "source": [
    "plt.clf()\n",
    "acc_values = history_dict['accuracy']\n",
    "plt.plot(epochs, acc_values, 'c', label='Training acc')\n",
    "plt.title('Training accuracy')\n",
    "plt.xlabel('Epochs')\n",
    "plt.ylabel('Loss')\n",
    "plt.legend()\n",
    "plt.show()"
   ]
  },
  {
   "cell_type": "code",
   "execution_count": 45,
   "id": "f6ed177a-6e12-4924-8bcf-cdd6598eb0e7",
   "metadata": {},
   "outputs": [
    {
     "name": "stdout",
     "output_type": "stream",
     "text": [
      "1/1 [==============================] - 0s 65ms/step\n",
      "[[0.00771421 0.98918927 0.00309649]\n",
      " [0.34612128 0.00706099 0.6468178 ]\n",
      " [0.21661115 0.0064198  0.776969  ]\n",
      " [0.01894918 0.9761618  0.00488893]\n",
      " [0.79915696 0.08381959 0.11702339]]\n"
     ]
    }
   ],
   "source": [
    "prediction= model.predict(x_test)\n",
    "print(prediction[:5])"
   ]
  },
  {
   "cell_type": "code",
   "execution_count": 46,
   "id": "97150d3d-89c4-4fcb-975d-8b6eb337db0a",
   "metadata": {},
   "outputs": [
    {
     "name": "stdout",
     "output_type": "stream",
     "text": [
      "[1 2 2 1 0]\n"
     ]
    }
   ],
   "source": [
    "prediction = np.argmax(prediction, axis=-1)\n",
    "print(prediction[:5])"
   ]
  },
  {
   "cell_type": "code",
   "execution_count": 47,
   "id": "3ab85cdf-6373-4339-bd0c-3da126f8e284",
   "metadata": {},
   "outputs": [
    {
     "name": "stdout",
     "output_type": "stream",
     "text": [
      "75     1\n",
      "6      2\n",
      "106    2\n",
      "76     1\n",
      "45     0\n",
      "Name: Label, dtype: int32\n"
     ]
    }
   ],
   "source": [
    "print(y_test[:5])"
   ]
  },
  {
   "cell_type": "code",
   "execution_count": 48,
   "id": "ac5ff89d-3bb9-46a7-b463-97862d9e955e",
   "metadata": {},
   "outputs": [
    {
     "name": "stdout",
     "output_type": "stream",
     "text": [
      "0.9615384615384616\n"
     ]
    }
   ],
   "source": [
    "from sklearn.metrics import accuracy_score, confusion_matrix\n",
    "print(accuracy_score(y_test, prediction))"
   ]
  },
  {
   "cell_type": "code",
   "execution_count": 49,
   "id": "57df30e6-4836-49f9-8ae2-2cf5e5101692",
   "metadata": {},
   "outputs": [
    {
     "name": "stdout",
     "output_type": "stream",
     "text": [
      "[[ 4  0  0]\n",
      " [ 0 13  0]\n",
      " [ 1  0  8]]\n"
     ]
    }
   ],
   "source": [
    "cm= confusion_matrix(y_test, prediction)\n",
    "print(cm)"
   ]
  },
  {
   "cell_type": "code",
   "execution_count": 50,
   "id": "46239d38-61ef-43cc-b17d-0fece1cc3ef7",
   "metadata": {},
   "outputs": [
    {
     "data": {
      "text/plain": [
       "Text(50.722222222222214, 0.5, 'actual')"
      ]
     },
     "execution_count": 50,
     "metadata": {},
     "output_type": "execute_result"
    },
    {
     "data": {
      "image/png": "[encoded data removed]",
      "text/plain": [
       "<Figure size 640x480 with 2 Axes>"
      ]
     },
     "metadata": {},
     "output_type": "display_data"
    }
   ],
   "source": [
    "ax = sns.heatmap(cm, annot=True, fmt='d',cmap='Reds',xticklabels=Lable_name, yticklabels=Lable_name)\n",
    "ax.set_title('confution matrix for leaves dataset prediction')\n",
    "ax.set_xlabel('prediction', fontsize=14)\n",
    "ax.set_ylabel('actual', fontsize=14)"
   ]
  },
  {
   "cell_type": "code",
   "execution_count": null,
   "id": "dfa15d2b-f653-4f53-b552-e183f3496eb4",
   "metadata": {},
   "outputs": [],
   "source": []
  }
 ],
 "metadata": {
  "kernelspec": {
   "display_name": "Python 3 (ipykernel)",
   "language": "python",
   "name": "python3"
  },
  "language_info": {
   "codemirror_mode": {
    "name": "ipython",
    "version": 3
   },
   "file_extension": ".py",
   "mimetype": "text/x-python",
   "name": "python",
   "nbconvert_exporter": "python",
   "pygments_lexer": "ipython3",
   "version": "3.10.13"
  }
 },
 "nbformat": 4,
 "nbformat_minor": 5
}
